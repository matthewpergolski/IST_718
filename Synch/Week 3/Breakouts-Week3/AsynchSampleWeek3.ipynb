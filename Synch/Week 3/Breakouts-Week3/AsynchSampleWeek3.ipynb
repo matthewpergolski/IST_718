{
  "cells": [
    {
      "cell_type": "markdown",
      "metadata": {
        "colab_type": "text",
        "id": "view-in-github"
      },
      "source": [
        "<a href=\"https://colab.research.google.com/github/2SUBDA/Breakouts/blob/Week3/AsynchSampleWeek3.ipynb\" target=\"_parent\"><img src=\"https://colab.research.google.com/assets/colab-badge.svg\" alt=\"Open In Colab\"/></a>"
      ]
    },
    {
      "cell_type": "code",
      "execution_count": 1,
      "metadata": {
        "colab": {
          "base_uri": "https://localhost:8080/",
          "height": 71
        },
        "id": "yKDuCbGyVUN5",
        "outputId": "cb28d84b-cc9a-4f9e-c957-0093340c35a7"
      },
      "outputs": [],
      "source": [
        "# BASED ON EXHIBIT 2.1 FROM MILLER (2015)\n",
        "\n",
        "# import packages for analysis and modeling\n",
        "import pandas as pd  # data frame operations\n",
        "\n",
        "import numpy as np  # arrays and math functions\n",
        "from scipy.stats import uniform  # for training-and-test split\n",
        "import statsmodels.api as sm  # statistical models (including regression)\n",
        "import statsmodels.formula.api as smf  # R-like model specification\n",
        "import matplotlib.pyplot as plt  # 2D plotting\n",
        "\n",
        "import seaborn as sns  # PROVIDES TRELLIS AND SMALL MULTIPLE PLOTTING"
      ]
    },
    {
      "cell_type": "code",
      "execution_count": 2,
      "metadata": {
        "id": "iHfULorxVbip"
      },
      "outputs": [
        {
          "name": "stderr",
          "output_type": "stream",
          "text": [
            "/var/folders/50/cmvlyf1x0jxfqm3s7khyhbt40000gn/T/ipykernel_84064/1195814713.py:3: FutureWarning: The error_bad_lines argument has been deprecated and will be removed in a future version. Use on_bad_lines in the future.\n",
            "\n",
            "\n",
            "  dodgers = pd.read_csv(\"https://raw.githubusercontent.com/2SUBDA/IST_718/master/dodgers.csv\", error_bad_lines=False)\n"
          ]
        }
      ],
      "source": [
        "# OBTAIN\n",
        "\n",
        "dodgers = pd.read_csv(\"https://raw.githubusercontent.com/2SUBDA/IST_718/master/dodgers.csv\", error_bad_lines=False)"
      ]
    },
    {
      "cell_type": "code",
      "execution_count": 24,
      "metadata": {
        "colab": {
          "base_uri": "https://localhost:8080/",
          "height": 187
        },
        "id": "3D8hs4EgVgFi",
        "outputId": "6e4082c0-339e-4778-e68c-036f57930fa0"
      },
      "outputs": [
        {
          "name": "stdout",
          "output_type": "stream",
          "text": [
            "\n",
            "Contents of dodgers data frame ---------------\n"
          ]
        },
        {
          "data": {
            "text/html": [
              "<div>\n",
              "<style scoped>\n",
              "    .dataframe tbody tr th:only-of-type {\n",
              "        vertical-align: middle;\n",
              "    }\n",
              "\n",
              "    .dataframe tbody tr th {\n",
              "        vertical-align: top;\n",
              "    }\n",
              "\n",
              "    .dataframe thead th {\n",
              "        text-align: right;\n",
              "    }\n",
              "</style>\n",
              "<table border=\"1\" class=\"dataframe\">\n",
              "  <thead>\n",
              "    <tr style=\"text-align: right;\">\n",
              "      <th></th>\n",
              "      <th>month</th>\n",
              "      <th>day</th>\n",
              "      <th>attend</th>\n",
              "      <th>day_of_week</th>\n",
              "      <th>opponent</th>\n",
              "      <th>temp</th>\n",
              "      <th>skies</th>\n",
              "      <th>day_night</th>\n",
              "      <th>cap</th>\n",
              "      <th>shirt</th>\n",
              "      <th>fireworks</th>\n",
              "      <th>bobblehead</th>\n",
              "      <th>division</th>\n",
              "      <th>attend_000</th>\n",
              "      <th>ordered_day_of_week</th>\n",
              "      <th>ordered_month</th>\n",
              "      <th>runiform</th>\n",
              "    </tr>\n",
              "  </thead>\n",
              "  <tbody>\n",
              "    <tr>\n",
              "      <th>0</th>\n",
              "      <td>APR</td>\n",
              "      <td>10</td>\n",
              "      <td>56000</td>\n",
              "      <td>Tuesday</td>\n",
              "      <td>Pirates</td>\n",
              "      <td>67</td>\n",
              "      <td>Clear</td>\n",
              "      <td>Day</td>\n",
              "      <td>NO</td>\n",
              "      <td>NO</td>\n",
              "      <td>NO</td>\n",
              "      <td>NO</td>\n",
              "      <td>Divisional</td>\n",
              "      <td>56.000</td>\n",
              "      <td>2Tuesday</td>\n",
              "      <td>1April</td>\n",
              "      <td>0.191519</td>\n",
              "    </tr>\n",
              "    <tr>\n",
              "      <th>1</th>\n",
              "      <td>APR</td>\n",
              "      <td>11</td>\n",
              "      <td>29729</td>\n",
              "      <td>Wednesday</td>\n",
              "      <td>Pirates</td>\n",
              "      <td>58</td>\n",
              "      <td>Cloudy</td>\n",
              "      <td>Night</td>\n",
              "      <td>NO</td>\n",
              "      <td>NO</td>\n",
              "      <td>NO</td>\n",
              "      <td>NO</td>\n",
              "      <td>Cross</td>\n",
              "      <td>29.729</td>\n",
              "      <td>3Wednesday</td>\n",
              "      <td>1April</td>\n",
              "      <td>0.622109</td>\n",
              "    </tr>\n",
              "    <tr>\n",
              "      <th>2</th>\n",
              "      <td>APR</td>\n",
              "      <td>12</td>\n",
              "      <td>28328</td>\n",
              "      <td>Thursday</td>\n",
              "      <td>Pirates</td>\n",
              "      <td>57</td>\n",
              "      <td>Cloudy</td>\n",
              "      <td>Night</td>\n",
              "      <td>NO</td>\n",
              "      <td>NO</td>\n",
              "      <td>NO</td>\n",
              "      <td>NO</td>\n",
              "      <td>Cross</td>\n",
              "      <td>28.328</td>\n",
              "      <td>4Thursday</td>\n",
              "      <td>1April</td>\n",
              "      <td>0.437728</td>\n",
              "    </tr>\n",
              "    <tr>\n",
              "      <th>3</th>\n",
              "      <td>APR</td>\n",
              "      <td>13</td>\n",
              "      <td>31601</td>\n",
              "      <td>Friday</td>\n",
              "      <td>Padres</td>\n",
              "      <td>54</td>\n",
              "      <td>Cloudy</td>\n",
              "      <td>Night</td>\n",
              "      <td>NO</td>\n",
              "      <td>NO</td>\n",
              "      <td>YES</td>\n",
              "      <td>NO</td>\n",
              "      <td>Cross</td>\n",
              "      <td>31.601</td>\n",
              "      <td>5Friday</td>\n",
              "      <td>1April</td>\n",
              "      <td>0.785359</td>\n",
              "    </tr>\n",
              "    <tr>\n",
              "      <th>4</th>\n",
              "      <td>APR</td>\n",
              "      <td>14</td>\n",
              "      <td>46549</td>\n",
              "      <td>Saturday</td>\n",
              "      <td>Padres</td>\n",
              "      <td>57</td>\n",
              "      <td>Cloudy</td>\n",
              "      <td>Night</td>\n",
              "      <td>NO</td>\n",
              "      <td>NO</td>\n",
              "      <td>NO</td>\n",
              "      <td>NO</td>\n",
              "      <td>Divisional</td>\n",
              "      <td>46.549</td>\n",
              "      <td>6Saturday</td>\n",
              "      <td>1April</td>\n",
              "      <td>0.779976</td>\n",
              "    </tr>\n",
              "    <tr>\n",
              "      <th>...</th>\n",
              "      <td>...</td>\n",
              "      <td>...</td>\n",
              "      <td>...</td>\n",
              "      <td>...</td>\n",
              "      <td>...</td>\n",
              "      <td>...</td>\n",
              "      <td>...</td>\n",
              "      <td>...</td>\n",
              "      <td>...</td>\n",
              "      <td>...</td>\n",
              "      <td>...</td>\n",
              "      <td>...</td>\n",
              "      <td>...</td>\n",
              "      <td>...</td>\n",
              "      <td>...</td>\n",
              "      <td>...</td>\n",
              "      <td>...</td>\n",
              "    </tr>\n",
              "    <tr>\n",
              "      <th>76</th>\n",
              "      <td>SEP</td>\n",
              "      <td>29</td>\n",
              "      <td>40724</td>\n",
              "      <td>Saturday</td>\n",
              "      <td>Rockies</td>\n",
              "      <td>84</td>\n",
              "      <td>Cloudy</td>\n",
              "      <td>Night</td>\n",
              "      <td>NO</td>\n",
              "      <td>NO</td>\n",
              "      <td>NO</td>\n",
              "      <td>NO</td>\n",
              "      <td>Divisional</td>\n",
              "      <td>40.724</td>\n",
              "      <td>6Saturday</td>\n",
              "      <td>6Sept</td>\n",
              "      <td>0.416754</td>\n",
              "    </tr>\n",
              "    <tr>\n",
              "      <th>77</th>\n",
              "      <td>SEP</td>\n",
              "      <td>30</td>\n",
              "      <td>35607</td>\n",
              "      <td>Sunday</td>\n",
              "      <td>Rockies</td>\n",
              "      <td>95</td>\n",
              "      <td>Clear</td>\n",
              "      <td>Day</td>\n",
              "      <td>NO</td>\n",
              "      <td>NO</td>\n",
              "      <td>NO</td>\n",
              "      <td>NO</td>\n",
              "      <td>Cross</td>\n",
              "      <td>35.607</td>\n",
              "      <td>7Sunday</td>\n",
              "      <td>6Sept</td>\n",
              "      <td>0.535852</td>\n",
              "    </tr>\n",
              "    <tr>\n",
              "      <th>78</th>\n",
              "      <td>OCT</td>\n",
              "      <td>1</td>\n",
              "      <td>33624</td>\n",
              "      <td>Monday</td>\n",
              "      <td>Giants</td>\n",
              "      <td>86</td>\n",
              "      <td>Clear</td>\n",
              "      <td>Night</td>\n",
              "      <td>NO</td>\n",
              "      <td>NO</td>\n",
              "      <td>NO</td>\n",
              "      <td>NO</td>\n",
              "      <td>Cross</td>\n",
              "      <td>33.624</td>\n",
              "      <td>1Monday</td>\n",
              "      <td>7Oct</td>\n",
              "      <td>0.006209</td>\n",
              "    </tr>\n",
              "    <tr>\n",
              "      <th>79</th>\n",
              "      <td>OCT</td>\n",
              "      <td>2</td>\n",
              "      <td>42473</td>\n",
              "      <td>Tuesday</td>\n",
              "      <td>Giants</td>\n",
              "      <td>83</td>\n",
              "      <td>Clear</td>\n",
              "      <td>Night</td>\n",
              "      <td>NO</td>\n",
              "      <td>NO</td>\n",
              "      <td>NO</td>\n",
              "      <td>NO</td>\n",
              "      <td>Divisional</td>\n",
              "      <td>42.473</td>\n",
              "      <td>2Tuesday</td>\n",
              "      <td>7Oct</td>\n",
              "      <td>0.300642</td>\n",
              "    </tr>\n",
              "    <tr>\n",
              "      <th>80</th>\n",
              "      <td>OCT</td>\n",
              "      <td>3</td>\n",
              "      <td>34014</td>\n",
              "      <td>Wednesday</td>\n",
              "      <td>Giants</td>\n",
              "      <td>82</td>\n",
              "      <td>Cloudy</td>\n",
              "      <td>Night</td>\n",
              "      <td>NO</td>\n",
              "      <td>NO</td>\n",
              "      <td>NO</td>\n",
              "      <td>NO</td>\n",
              "      <td>Cross</td>\n",
              "      <td>34.014</td>\n",
              "      <td>3Wednesday</td>\n",
              "      <td>7Oct</td>\n",
              "      <td>0.436893</td>\n",
              "    </tr>\n",
              "  </tbody>\n",
              "</table>\n",
              "<p>81 rows × 17 columns</p>\n",
              "</div>"
            ],
            "text/plain": [
              "   month  day  attend day_of_week opponent  temp   skies day_night cap shirt  \\\n",
              "0    APR   10   56000     Tuesday  Pirates    67  Clear        Day  NO    NO   \n",
              "1    APR   11   29729   Wednesday  Pirates    58  Cloudy     Night  NO    NO   \n",
              "2    APR   12   28328    Thursday  Pirates    57  Cloudy     Night  NO    NO   \n",
              "3    APR   13   31601      Friday   Padres    54  Cloudy     Night  NO    NO   \n",
              "4    APR   14   46549    Saturday   Padres    57  Cloudy     Night  NO    NO   \n",
              "..   ...  ...     ...         ...      ...   ...     ...       ...  ..   ...   \n",
              "76   SEP   29   40724    Saturday  Rockies    84  Cloudy     Night  NO    NO   \n",
              "77   SEP   30   35607      Sunday  Rockies    95  Clear        Day  NO    NO   \n",
              "78   OCT    1   33624      Monday   Giants    86  Clear      Night  NO    NO   \n",
              "79   OCT    2   42473     Tuesday   Giants    83  Clear      Night  NO    NO   \n",
              "80   OCT    3   34014   Wednesday   Giants    82  Cloudy     Night  NO    NO   \n",
              "\n",
              "   fireworks bobblehead    division  attend_000 ordered_day_of_week  \\\n",
              "0         NO         NO  Divisional      56.000            2Tuesday   \n",
              "1         NO         NO       Cross      29.729          3Wednesday   \n",
              "2         NO         NO       Cross      28.328           4Thursday   \n",
              "3        YES         NO       Cross      31.601             5Friday   \n",
              "4         NO         NO  Divisional      46.549           6Saturday   \n",
              "..       ...        ...         ...         ...                 ...   \n",
              "76        NO         NO  Divisional      40.724           6Saturday   \n",
              "77        NO         NO       Cross      35.607             7Sunday   \n",
              "78        NO         NO       Cross      33.624             1Monday   \n",
              "79        NO         NO  Divisional      42.473            2Tuesday   \n",
              "80        NO         NO       Cross      34.014          3Wednesday   \n",
              "\n",
              "   ordered_month  runiform  \n",
              "0         1April  0.191519  \n",
              "1         1April  0.622109  \n",
              "2         1April  0.437728  \n",
              "3         1April  0.785359  \n",
              "4         1April  0.779976  \n",
              "..           ...       ...  \n",
              "76         6Sept  0.416754  \n",
              "77         6Sept  0.535852  \n",
              "78          7Oct  0.006209  \n",
              "79          7Oct  0.300642  \n",
              "80          7Oct  0.436893  \n",
              "\n",
              "[81 rows x 17 columns]"
            ]
          },
          "execution_count": 24,
          "metadata": {},
          "output_type": "execute_result"
        }
      ],
      "source": [
        "# SCRUB / EXPLORE\n",
        "\n",
        "print(\"\\nContents of dodgers data frame ---------------\")\n",
        "\n",
        "# attendance in thousands for plotting \n",
        "dodgers['attend_000'] = dodgers['attend']/1000\n",
        "\n",
        "# print the first five rows of the data frame\n",
        "pd.DataFrame.head(dodgers)\n",
        "dodgerDF = pd.DataFrame(dodgers)\n",
        "dodgerDF"
      ]
    },
    {
      "cell_type": "code",
      "execution_count": 25,
      "metadata": {
        "colab": {
          "base_uri": "https://localhost:8080/",
          "height": 153
        },
        "id": "ckUSUIHPVjax",
        "outputId": "5e82abb3-1760-4d08-dd70-ae586dc4ef85"
      },
      "outputs": [
        {
          "data": {
            "text/html": [
              "<div>\n",
              "<style scoped>\n",
              "    .dataframe tbody tr th:only-of-type {\n",
              "        vertical-align: middle;\n",
              "    }\n",
              "\n",
              "    .dataframe tbody tr th {\n",
              "        vertical-align: top;\n",
              "    }\n",
              "\n",
              "    .dataframe thead th {\n",
              "        text-align: right;\n",
              "    }\n",
              "</style>\n",
              "<table border=\"1\" class=\"dataframe\">\n",
              "  <thead>\n",
              "    <tr style=\"text-align: right;\">\n",
              "      <th></th>\n",
              "      <th>month</th>\n",
              "      <th>day</th>\n",
              "      <th>attend</th>\n",
              "      <th>day_of_week</th>\n",
              "      <th>opponent</th>\n",
              "      <th>temp</th>\n",
              "      <th>skies</th>\n",
              "      <th>day_night</th>\n",
              "      <th>cap</th>\n",
              "      <th>shirt</th>\n",
              "      <th>fireworks</th>\n",
              "      <th>bobblehead</th>\n",
              "      <th>division</th>\n",
              "      <th>attend_000</th>\n",
              "      <th>ordered_day_of_week</th>\n",
              "      <th>ordered_month</th>\n",
              "      <th>runiform</th>\n",
              "    </tr>\n",
              "  </thead>\n",
              "  <tbody>\n",
              "    <tr>\n",
              "      <th>0</th>\n",
              "      <td>APR</td>\n",
              "      <td>10</td>\n",
              "      <td>56000</td>\n",
              "      <td>Tuesday</td>\n",
              "      <td>Pirates</td>\n",
              "      <td>67</td>\n",
              "      <td>Clear</td>\n",
              "      <td>Day</td>\n",
              "      <td>NO</td>\n",
              "      <td>NO</td>\n",
              "      <td>NO</td>\n",
              "      <td>NO</td>\n",
              "      <td>Divisional</td>\n",
              "      <td>56.000</td>\n",
              "      <td>2Tuesday</td>\n",
              "      <td>1April</td>\n",
              "      <td>0.191519</td>\n",
              "    </tr>\n",
              "    <tr>\n",
              "      <th>1</th>\n",
              "      <td>APR</td>\n",
              "      <td>11</td>\n",
              "      <td>29729</td>\n",
              "      <td>Wednesday</td>\n",
              "      <td>Pirates</td>\n",
              "      <td>58</td>\n",
              "      <td>Cloudy</td>\n",
              "      <td>Night</td>\n",
              "      <td>NO</td>\n",
              "      <td>NO</td>\n",
              "      <td>NO</td>\n",
              "      <td>NO</td>\n",
              "      <td>Cross</td>\n",
              "      <td>29.729</td>\n",
              "      <td>3Wednesday</td>\n",
              "      <td>1April</td>\n",
              "      <td>0.622109</td>\n",
              "    </tr>\n",
              "    <tr>\n",
              "      <th>2</th>\n",
              "      <td>APR</td>\n",
              "      <td>12</td>\n",
              "      <td>28328</td>\n",
              "      <td>Thursday</td>\n",
              "      <td>Pirates</td>\n",
              "      <td>57</td>\n",
              "      <td>Cloudy</td>\n",
              "      <td>Night</td>\n",
              "      <td>NO</td>\n",
              "      <td>NO</td>\n",
              "      <td>NO</td>\n",
              "      <td>NO</td>\n",
              "      <td>Cross</td>\n",
              "      <td>28.328</td>\n",
              "      <td>4Thursday</td>\n",
              "      <td>1April</td>\n",
              "      <td>0.437728</td>\n",
              "    </tr>\n",
              "    <tr>\n",
              "      <th>3</th>\n",
              "      <td>APR</td>\n",
              "      <td>13</td>\n",
              "      <td>31601</td>\n",
              "      <td>Friday</td>\n",
              "      <td>Padres</td>\n",
              "      <td>54</td>\n",
              "      <td>Cloudy</td>\n",
              "      <td>Night</td>\n",
              "      <td>NO</td>\n",
              "      <td>NO</td>\n",
              "      <td>YES</td>\n",
              "      <td>NO</td>\n",
              "      <td>Cross</td>\n",
              "      <td>31.601</td>\n",
              "      <td>5Friday</td>\n",
              "      <td>1April</td>\n",
              "      <td>0.785359</td>\n",
              "    </tr>\n",
              "    <tr>\n",
              "      <th>4</th>\n",
              "      <td>APR</td>\n",
              "      <td>14</td>\n",
              "      <td>46549</td>\n",
              "      <td>Saturday</td>\n",
              "      <td>Padres</td>\n",
              "      <td>57</td>\n",
              "      <td>Cloudy</td>\n",
              "      <td>Night</td>\n",
              "      <td>NO</td>\n",
              "      <td>NO</td>\n",
              "      <td>NO</td>\n",
              "      <td>NO</td>\n",
              "      <td>Divisional</td>\n",
              "      <td>46.549</td>\n",
              "      <td>6Saturday</td>\n",
              "      <td>1April</td>\n",
              "      <td>0.779976</td>\n",
              "    </tr>\n",
              "    <tr>\n",
              "      <th>...</th>\n",
              "      <td>...</td>\n",
              "      <td>...</td>\n",
              "      <td>...</td>\n",
              "      <td>...</td>\n",
              "      <td>...</td>\n",
              "      <td>...</td>\n",
              "      <td>...</td>\n",
              "      <td>...</td>\n",
              "      <td>...</td>\n",
              "      <td>...</td>\n",
              "      <td>...</td>\n",
              "      <td>...</td>\n",
              "      <td>...</td>\n",
              "      <td>...</td>\n",
              "      <td>...</td>\n",
              "      <td>...</td>\n",
              "      <td>...</td>\n",
              "    </tr>\n",
              "    <tr>\n",
              "      <th>76</th>\n",
              "      <td>SEP</td>\n",
              "      <td>29</td>\n",
              "      <td>40724</td>\n",
              "      <td>Saturday</td>\n",
              "      <td>Rockies</td>\n",
              "      <td>84</td>\n",
              "      <td>Cloudy</td>\n",
              "      <td>Night</td>\n",
              "      <td>NO</td>\n",
              "      <td>NO</td>\n",
              "      <td>NO</td>\n",
              "      <td>NO</td>\n",
              "      <td>Divisional</td>\n",
              "      <td>40.724</td>\n",
              "      <td>6Saturday</td>\n",
              "      <td>6Sept</td>\n",
              "      <td>0.416754</td>\n",
              "    </tr>\n",
              "    <tr>\n",
              "      <th>77</th>\n",
              "      <td>SEP</td>\n",
              "      <td>30</td>\n",
              "      <td>35607</td>\n",
              "      <td>Sunday</td>\n",
              "      <td>Rockies</td>\n",
              "      <td>95</td>\n",
              "      <td>Clear</td>\n",
              "      <td>Day</td>\n",
              "      <td>NO</td>\n",
              "      <td>NO</td>\n",
              "      <td>NO</td>\n",
              "      <td>NO</td>\n",
              "      <td>Cross</td>\n",
              "      <td>35.607</td>\n",
              "      <td>7Sunday</td>\n",
              "      <td>6Sept</td>\n",
              "      <td>0.535852</td>\n",
              "    </tr>\n",
              "    <tr>\n",
              "      <th>78</th>\n",
              "      <td>OCT</td>\n",
              "      <td>1</td>\n",
              "      <td>33624</td>\n",
              "      <td>Monday</td>\n",
              "      <td>Giants</td>\n",
              "      <td>86</td>\n",
              "      <td>Clear</td>\n",
              "      <td>Night</td>\n",
              "      <td>NO</td>\n",
              "      <td>NO</td>\n",
              "      <td>NO</td>\n",
              "      <td>NO</td>\n",
              "      <td>Cross</td>\n",
              "      <td>33.624</td>\n",
              "      <td>1Monday</td>\n",
              "      <td>7Oct</td>\n",
              "      <td>0.006209</td>\n",
              "    </tr>\n",
              "    <tr>\n",
              "      <th>79</th>\n",
              "      <td>OCT</td>\n",
              "      <td>2</td>\n",
              "      <td>42473</td>\n",
              "      <td>Tuesday</td>\n",
              "      <td>Giants</td>\n",
              "      <td>83</td>\n",
              "      <td>Clear</td>\n",
              "      <td>Night</td>\n",
              "      <td>NO</td>\n",
              "      <td>NO</td>\n",
              "      <td>NO</td>\n",
              "      <td>NO</td>\n",
              "      <td>Divisional</td>\n",
              "      <td>42.473</td>\n",
              "      <td>2Tuesday</td>\n",
              "      <td>7Oct</td>\n",
              "      <td>0.300642</td>\n",
              "    </tr>\n",
              "    <tr>\n",
              "      <th>80</th>\n",
              "      <td>OCT</td>\n",
              "      <td>3</td>\n",
              "      <td>34014</td>\n",
              "      <td>Wednesday</td>\n",
              "      <td>Giants</td>\n",
              "      <td>82</td>\n",
              "      <td>Cloudy</td>\n",
              "      <td>Night</td>\n",
              "      <td>NO</td>\n",
              "      <td>NO</td>\n",
              "      <td>NO</td>\n",
              "      <td>NO</td>\n",
              "      <td>Cross</td>\n",
              "      <td>34.014</td>\n",
              "      <td>3Wednesday</td>\n",
              "      <td>7Oct</td>\n",
              "      <td>0.436893</td>\n",
              "    </tr>\n",
              "  </tbody>\n",
              "</table>\n",
              "<p>81 rows × 17 columns</p>\n",
              "</div>"
            ],
            "text/plain": [
              "   month  day  attend day_of_week opponent  temp   skies day_night cap shirt  \\\n",
              "0    APR   10   56000     Tuesday  Pirates    67  Clear        Day  NO    NO   \n",
              "1    APR   11   29729   Wednesday  Pirates    58  Cloudy     Night  NO    NO   \n",
              "2    APR   12   28328    Thursday  Pirates    57  Cloudy     Night  NO    NO   \n",
              "3    APR   13   31601      Friday   Padres    54  Cloudy     Night  NO    NO   \n",
              "4    APR   14   46549    Saturday   Padres    57  Cloudy     Night  NO    NO   \n",
              "..   ...  ...     ...         ...      ...   ...     ...       ...  ..   ...   \n",
              "76   SEP   29   40724    Saturday  Rockies    84  Cloudy     Night  NO    NO   \n",
              "77   SEP   30   35607      Sunday  Rockies    95  Clear        Day  NO    NO   \n",
              "78   OCT    1   33624      Monday   Giants    86  Clear      Night  NO    NO   \n",
              "79   OCT    2   42473     Tuesday   Giants    83  Clear      Night  NO    NO   \n",
              "80   OCT    3   34014   Wednesday   Giants    82  Cloudy     Night  NO    NO   \n",
              "\n",
              "   fireworks bobblehead    division  attend_000 ordered_day_of_week  \\\n",
              "0         NO         NO  Divisional      56.000            2Tuesday   \n",
              "1         NO         NO       Cross      29.729          3Wednesday   \n",
              "2         NO         NO       Cross      28.328           4Thursday   \n",
              "3        YES         NO       Cross      31.601             5Friday   \n",
              "4         NO         NO  Divisional      46.549           6Saturday   \n",
              "..       ...        ...         ...         ...                 ...   \n",
              "76        NO         NO  Divisional      40.724           6Saturday   \n",
              "77        NO         NO       Cross      35.607             7Sunday   \n",
              "78        NO         NO       Cross      33.624             1Monday   \n",
              "79        NO         NO  Divisional      42.473            2Tuesday   \n",
              "80        NO         NO       Cross      34.014          3Wednesday   \n",
              "\n",
              "   ordered_month  runiform  \n",
              "0         1April  0.191519  \n",
              "1         1April  0.622109  \n",
              "2         1April  0.437728  \n",
              "3         1April  0.785359  \n",
              "4         1April  0.779976  \n",
              "..           ...       ...  \n",
              "76         6Sept  0.416754  \n",
              "77         6Sept  0.535852  \n",
              "78          7Oct  0.006209  \n",
              "79          7Oct  0.300642  \n",
              "80          7Oct  0.436893  \n",
              "\n",
              "[81 rows x 17 columns]"
            ]
          },
          "execution_count": 25,
          "metadata": {},
          "output_type": "execute_result"
        }
      ],
      "source": [
        "# SCRUB\n",
        "\n",
        "mondays = dodgers[dodgers['day_of_week'] == 'Monday']\n",
        "tuesdays = dodgers[dodgers['day_of_week'] == 'Tuesday']\n",
        "wednesdays = dodgers[dodgers['day_of_week'] == 'Wednesday']\n",
        "thursdays = dodgers[dodgers['day_of_week'] == 'Thursday']\n",
        "fridays = dodgers[dodgers['day_of_week'] == 'Friday']\n",
        "saturdays = dodgers[dodgers['day_of_week'] == 'Saturday']\n",
        "sundays = dodgers[dodgers['day_of_week'] == 'Sunday']\n",
        "\n",
        "# convert days' attendance into list of vectors for box plot\n",
        "data = [mondays['attend_000'], tuesdays['attend_000'], \n",
        "    wednesdays['attend_000'], thursdays['attend_000'], \n",
        "    fridays['attend_000'], saturdays['attend_000'], \n",
        "    sundays['attend_000']]\n",
        "ordered_day_names = ['Mon', 'Tue', 'Wed', 'Thur', 'Fri', 'Sat', 'Sun']\n",
        "\n",
        "ordered_team_names = (sorted(set(dodgers['opponent']), reverse = True))\n",
        "\n",
        "# print the first five rows of the data frame\n",
        "pd.DataFrame.head(dodgers)\n",
        "dodgerDF = pd.DataFrame(dodgers)\n",
        "dodgerDF"
      ]
    },
    {
      "cell_type": "code",
      "execution_count": 5,
      "metadata": {
        "colab": {
          "base_uri": "https://localhost:8080/",
          "height": 777
        },
        "id": "EX6oWqZaVqkp",
        "outputId": "4272566d-e0ca-4a0a-aa83-3674417718ee"
      },
      "outputs": [
        {
          "data": {
            "image/png": "[encoded data removed]",
            "text/plain": [
              "<Figure size 640x480 with 1 Axes>"
            ]
          },
          "metadata": {},
          "output_type": "display_data"
        },
        {
          "data": {
            "image/png": "[encoded data removed]",
            "text/plain": [
              "<Figure size 640x480 with 1 Axes>"
            ]
          },
          "metadata": {},
          "output_type": "display_data"
        },
        {
          "data": {
            "image/png": "[encoded data removed]",
            "text/plain": [
              "<Figure size 640x480 with 1 Axes>"
            ]
          },
          "metadata": {},
          "output_type": "display_data"
        }
      ],
      "source": [
        "## SUMMARY STATISTICS\n",
        "\n",
        "np.mean(dodgers['attend'])\n",
        "# np.min(dodgers['attend'])\n",
        "# np.max(dodgers['attend'])\n",
        "\n",
        "sns.boxplot(y=\"attend\", data=dodgers)\n",
        "plt.show()\n",
        "\n",
        "sns.boxplot(x=\"day_of_week\", y=\"attend\", data=dodgers, color = \"gray\");\n",
        "plt.show()\n",
        "\n",
        "# NUMBER OF PROMOTIONS - ONLY WORKS WITH BINARY VARIABLES\n",
        "\n",
        "#cap = np.count_nonzero(dodgers['cap'])\n",
        "#print(cap)\n",
        "#shirt = np.count_nonzero(dodgers['shirt'])\n",
        "#print(shirt)\n",
        "#fire = np.count_nonzero(dodgers['fireworks'])\n",
        "#print(fire)\n",
        "#bob = np.count_nonzero(dodgers['bobblehead'])\n",
        "#print(bob)\n",
        "\n",
        "#print(cap + shirt + fire + bob)\n",
        "\n",
        "sns.boxplot(x=\"month\", y=\"attend\", data=dodgers, color = \"gray\")\n",
        "plt.show()"
      ]
    },
    {
      "cell_type": "code",
      "execution_count": 27,
      "metadata": {
        "colab": {
          "base_uri": "https://localhost:8080/",
          "height": 330
        },
        "id": "ie9OKHS5VxyC",
        "outputId": "0b986486-fd90-4e62-b627-9e697ea61728"
      },
      "outputs": [
        {
          "data": {
            "image/png": "[encoded data removed]",
            "text/plain": [
              "<Figure size 640x480 with 1 Axes>"
            ]
          },
          "metadata": {},
          "output_type": "display_data"
        }
      ],
      "source": [
        "# EXPLORE\n",
        "# FROM MILLER (2015)\n",
        "fig, axis = plt.subplots()\n",
        "axis.set_xlabel('Day of Week')\n",
        "axis.set_ylabel('Attendance (thousands)')\n",
        "day_plot = plt.boxplot(data, sym='o', vert=1, whis=1.5)\n",
        "plt.setp(day_plot['boxes'], color = 'black')    \n",
        "plt.setp(day_plot['whiskers'], color = 'black')    \n",
        "plt.setp(day_plot['fliers'], color = 'black', marker = 'o')\n",
        "axis.set_xticklabels(ordered_day_names)\n",
        "#plt.show()\n",
        "plt.savefig('fig_advert_promo_dodgers_eda_day_of_week_Python.pdf', \n",
        "    bbox_inches = 'tight', dpi=None, facecolor='w', edgecolor='b', \n",
        "    #orientation='portrait', papertype=None, format=None,\n",
        "    orientation='portrait', format=None, \n",
        "    transparent=True, pad_inches=0.25) \n",
        "plt.show()"
      ]
    },
    {
      "cell_type": "code",
      "execution_count": null,
      "metadata": {
        "colab": {
          "base_uri": "https://localhost:8080/",
          "height": 629
        },
        "id": "exh5vdOTWGMC",
        "outputId": "9e7d2d8e-8361-44cd-8597-b584bbcb297c"
      },
      "outputs": [
        {
          "data": {
            "image/png": "[encoded data removed]",
            "text/plain": [
              "<Figure size 496.05x216 with 2 Axes>"
            ]
          },
          "metadata": {
            "tags": []
          },
          "output_type": "display_data"
        },
        {
          "data": {
            "image/png": "[encoded data removed]",
            "text/plain": [
              "<Figure size 496.05x216 with 2 Axes>"
            ]
          },
          "metadata": {
            "tags": []
          },
          "output_type": "display_data"
        },
        {
          "data": {
            "image/png": "[encoded data removed]",
            "text/plain": [
              "<Figure size 511.8x216 with 2 Axes>"
            ]
          },
          "metadata": {
            "tags": []
          },
          "output_type": "display_data"
        }
      ],
      "source": [
        "# EXPLORE\n",
        "# trellis/lattice plot attendance by temp, conditioning on skies \n",
        "# and day_night with bobblehead NO/YES shown in distinct colors\n",
        "import seaborn as sns\n",
        "\n",
        "sns.set(style=\"darkgrid\")\n",
        "\n",
        "g = sns.FacetGrid(dodgers, col=\"skies\", hue=\"fireworks\", \n",
        "                  hue_order=[\"YES\", \"NO\"],\n",
        "                  hue_kws=dict(marker=[\"^\", \"v\"]))\n",
        "g.map(plt.scatter, \"temp\", \"attend\", alpha=.7)\n",
        "g.add_legend();\n",
        "plt.show()\n",
        "\n",
        "g = sns.FacetGrid(dodgers, col=\"day_night\", hue=\"fireworks\",\n",
        "                hue_order=[\"YES\", \"NO\"],)\n",
        "g.map(plt.scatter, \"temp\", \"attend\", alpha=.7)\n",
        "g.add_legend();\n",
        "plt.show()\n",
        "\n",
        "g = sns.FacetGrid(dodgers, col=\"day_night\", hue=\"bobblehead\",\n",
        "                hue_order=[\"YES\", \"NO\"],)\n",
        "g.map(plt.scatter, \"temp\", \"attend\", alpha=.7)\n",
        "g.add_legend();\n",
        "plt.show()"
      ]
    },
    {
      "cell_type": "code",
      "execution_count": 7,
      "metadata": {
        "colab": {
          "base_uri": "https://localhost:8080/",
          "height": 553
        },
        "id": "QYa1EGYMWMW6",
        "outputId": "d1edb3e9-2e5a-4578-8205-644f316bc3dc"
      },
      "outputs": [
        {
          "data": {
            "image/png": "[encoded data removed]",
            "text/plain": [
              "<Figure size 640x480 with 1 Axes>"
            ]
          },
          "metadata": {},
          "output_type": "display_data"
        },
        {
          "data": {
            "image/png": "[encoded data removed]",
            "text/plain": [
              "<Figure size 640x480 with 1 Axes>"
            ]
          },
          "metadata": {},
          "output_type": "display_data"
        }
      ],
      "source": [
        "# EXPLORE - DODGER PROMOTIONS BY TYPE\n",
        "\n",
        "sns.countplot(y=\"fireworks\", data=dodgers, palette=\"Blues_d\",\n",
        "             order=[\"YES\", \"NO\"])\n",
        "#g.add_legend();\n",
        "plt.show()\n",
        "\n",
        "sns.countplot(y=\"bobblehead\", hue=\"day_night\",\n",
        "                data=dodgers, palette=\"Blues_d\",\n",
        "                order=[\"YES\", \"NO\"])\n",
        "#g.add_legend();\n",
        "plt.show()"
      ]
    },
    {
      "cell_type": "code",
      "execution_count": 8,
      "metadata": {
        "colab": {
          "base_uri": "https://localhost:8080/",
          "height": 373
        },
        "id": "96GUG_V7WSHy",
        "outputId": "aa80f3a8-ee04-4aa1-dcf8-ae23c58c4639"
      },
      "outputs": [
        {
          "data": {
            "image/png": "[encoded data removed]",
            "text/plain": [
              "<Figure size 640x480 with 1 Axes>"
            ]
          },
          "metadata": {},
          "output_type": "display_data"
        }
      ],
      "source": [
        "# EXPLORE - Dodgers attendance by Visiting Team\n",
        "# Figure 2.4 from Miller\n",
        "\n",
        "# teams = sorted([\"opponent\"], reverse=True)\n",
        "sns.swarmplot(x=\"attend\", y=\"opponent\", hue=\"day_night\", \n",
        "              data=dodgers, order =ordered_team_names)\n",
        "#g.add_legend();\n",
        "plt.show()"
      ]
    },
    {
      "cell_type": "code",
      "execution_count": 9,
      "metadata": {
        "colab": {
          "base_uri": "https://localhost:8080/",
          "height": 301
        },
        "id": "ou_D-kg6WXhq",
        "outputId": "ebd0bd3c-ee65-42ed-c341-a0c9e8e0f9cb"
      },
      "outputs": [
        {
          "data": {
            "image/png": "[encoded data removed]",
            "text/plain": [
              "<Figure size 640x480 with 1 Axes>"
            ]
          },
          "metadata": {},
          "output_type": "display_data"
        }
      ],
      "source": [
        "# EXPLORE - CREATE A HISTOGRAM OF ATTENDANCE\n",
        "\n",
        "# CREATE BINS\n",
        "\n",
        "plt.hist(dodgers['attend'], density= False, stacked = False, rwidth = .9)\n",
        "plt.title(\"Attendance Histogram\")\n",
        "plt.xlabel('Attendance')\n",
        "plt.ylabel('Frequency')\n",
        "\n",
        "plt.show()"
      ]
    },
    {
      "cell_type": "code",
      "execution_count": 10,
      "metadata": {
        "id": "TOrY8FXhWeEz"
      },
      "outputs": [],
      "source": [
        "# SCRUB\n",
        "\n",
        "# BLOCK FOR ORDERING DATA\n",
        "\n",
        "# map day_of_week to ordered_day_of_week \n",
        "day_to_ordered_day = {'Monday' : '1Monday', \n",
        "    'Tuesday' : '2Tuesday', \n",
        "    'Wednesday' : '3Wednesday', \n",
        "    'Thursday' : '4Thursday', \n",
        "    'Friday' : '5Friday',\n",
        "    'Saturday' : '6Saturday',\n",
        "    'Sunday' : '7Sunday'}\n",
        "dodgers['ordered_day_of_week'] = dodgers['day_of_week'].map(day_to_ordered_day)   \n",
        "\n",
        "# map month to ordered_month\n",
        "month_to_ordered_month = {'APR' : '1April', \n",
        "     'MAY' : '2May', \n",
        "     'JUN' : '3June', \n",
        "     'JUL' : '4July', \n",
        "     'AUG' : '5Aug',\n",
        "     'SEP' : '6Sept',\n",
        "     'OCT' : '7Oct'}\n",
        "dodgers['ordered_month'] = dodgers['month'].map(month_to_ordered_month)"
      ]
    },
    {
      "cell_type": "code",
      "execution_count": 28,
      "metadata": {
        "colab": {
          "base_uri": "https://localhost:8080/",
          "height": 357
        },
        "id": "5ctA5LHSWiTC",
        "outputId": "56fb9b9e-60cb-4ebb-eccc-7cde33e13e29"
      },
      "outputs": [
        {
          "name": "stdout",
          "output_type": "stream",
          "text": [
            "\n",
            "dodgers_train data frame (rows, columns):  (57, 17)\n",
            "  month  day  attend day_of_week opponent  temp   skies day_night cap shirt  \\\n",
            "1   APR   11   29729   Wednesday  Pirates    58  Cloudy     Night  NO    NO   \n",
            "2   APR   12   28328    Thursday  Pirates    57  Cloudy     Night  NO    NO   \n",
            "3   APR   13   31601      Friday   Padres    54  Cloudy     Night  NO    NO   \n",
            "4   APR   14   46549    Saturday   Padres    57  Cloudy     Night  NO    NO   \n",
            "7   APR   24   44014     Tuesday   Braves    63  Cloudy     Night  NO    NO   \n",
            "\n",
            "  fireworks bobblehead    division  attend_000 ordered_day_of_week  \\\n",
            "1        NO         NO       Cross      29.729          3Wednesday   \n",
            "2        NO         NO       Cross      28.328           4Thursday   \n",
            "3       YES         NO       Cross      31.601             5Friday   \n",
            "4        NO         NO  Divisional      46.549           6Saturday   \n",
            "7        NO         NO  Divisional      44.014            2Tuesday   \n",
            "\n",
            "  ordered_month  runiform  \n",
            "1        1April  0.622109  \n",
            "2        1April  0.437728  \n",
            "3        1April  0.785359  \n",
            "4        1April  0.779976  \n",
            "7        1April  0.801872  \n",
            "\n",
            "dodgers_test data frame (rows, columns):  (24, 17)\n"
          ]
        },
        {
          "data": {
            "text/html": [
              "<div>\n",
              "<style scoped>\n",
              "    .dataframe tbody tr th:only-of-type {\n",
              "        vertical-align: middle;\n",
              "    }\n",
              "\n",
              "    .dataframe tbody tr th {\n",
              "        vertical-align: top;\n",
              "    }\n",
              "\n",
              "    .dataframe thead th {\n",
              "        text-align: right;\n",
              "    }\n",
              "</style>\n",
              "<table border=\"1\" class=\"dataframe\">\n",
              "  <thead>\n",
              "    <tr style=\"text-align: right;\">\n",
              "      <th></th>\n",
              "      <th>month</th>\n",
              "      <th>day</th>\n",
              "      <th>attend</th>\n",
              "      <th>day_of_week</th>\n",
              "      <th>opponent</th>\n",
              "      <th>temp</th>\n",
              "      <th>skies</th>\n",
              "      <th>day_night</th>\n",
              "      <th>cap</th>\n",
              "      <th>shirt</th>\n",
              "      <th>fireworks</th>\n",
              "      <th>bobblehead</th>\n",
              "      <th>division</th>\n",
              "      <th>attend_000</th>\n",
              "      <th>ordered_day_of_week</th>\n",
              "      <th>ordered_month</th>\n",
              "      <th>runiform</th>\n",
              "    </tr>\n",
              "  </thead>\n",
              "  <tbody>\n",
              "    <tr>\n",
              "      <th>0</th>\n",
              "      <td>APR</td>\n",
              "      <td>10</td>\n",
              "      <td>56000</td>\n",
              "      <td>Tuesday</td>\n",
              "      <td>Pirates</td>\n",
              "      <td>67</td>\n",
              "      <td>Clear</td>\n",
              "      <td>Day</td>\n",
              "      <td>NO</td>\n",
              "      <td>NO</td>\n",
              "      <td>NO</td>\n",
              "      <td>NO</td>\n",
              "      <td>Divisional</td>\n",
              "      <td>56.000</td>\n",
              "      <td>2Tuesday</td>\n",
              "      <td>1April</td>\n",
              "      <td>0.191519</td>\n",
              "    </tr>\n",
              "    <tr>\n",
              "      <th>5</th>\n",
              "      <td>APR</td>\n",
              "      <td>15</td>\n",
              "      <td>38359</td>\n",
              "      <td>Sunday</td>\n",
              "      <td>Padres</td>\n",
              "      <td>65</td>\n",
              "      <td>Clear</td>\n",
              "      <td>Day</td>\n",
              "      <td>NO</td>\n",
              "      <td>NO</td>\n",
              "      <td>NO</td>\n",
              "      <td>NO</td>\n",
              "      <td>Cross</td>\n",
              "      <td>38.359</td>\n",
              "      <td>7Sunday</td>\n",
              "      <td>1April</td>\n",
              "      <td>0.272593</td>\n",
              "    </tr>\n",
              "    <tr>\n",
              "      <th>6</th>\n",
              "      <td>APR</td>\n",
              "      <td>23</td>\n",
              "      <td>26376</td>\n",
              "      <td>Monday</td>\n",
              "      <td>Braves</td>\n",
              "      <td>60</td>\n",
              "      <td>Cloudy</td>\n",
              "      <td>Night</td>\n",
              "      <td>NO</td>\n",
              "      <td>NO</td>\n",
              "      <td>NO</td>\n",
              "      <td>NO</td>\n",
              "      <td>Cross</td>\n",
              "      <td>26.376</td>\n",
              "      <td>1Monday</td>\n",
              "      <td>1April</td>\n",
              "      <td>0.276464</td>\n",
              "    </tr>\n",
              "    <tr>\n",
              "      <th>17</th>\n",
              "      <td>MAY</td>\n",
              "      <td>13</td>\n",
              "      <td>49124</td>\n",
              "      <td>Sunday</td>\n",
              "      <td>Rockies</td>\n",
              "      <td>70</td>\n",
              "      <td>Clear</td>\n",
              "      <td>Day</td>\n",
              "      <td>NO</td>\n",
              "      <td>NO</td>\n",
              "      <td>NO</td>\n",
              "      <td>NO</td>\n",
              "      <td>Divisional</td>\n",
              "      <td>49.124</td>\n",
              "      <td>7Sunday</td>\n",
              "      <td>2May</td>\n",
              "      <td>0.013768</td>\n",
              "    </tr>\n",
              "    <tr>\n",
              "      <th>22</th>\n",
              "      <td>MAY</td>\n",
              "      <td>20</td>\n",
              "      <td>44005</td>\n",
              "      <td>Sunday</td>\n",
              "      <td>Cardinals</td>\n",
              "      <td>77</td>\n",
              "      <td>Clear</td>\n",
              "      <td>Night</td>\n",
              "      <td>NO</td>\n",
              "      <td>NO</td>\n",
              "      <td>NO</td>\n",
              "      <td>NO</td>\n",
              "      <td>Divisional</td>\n",
              "      <td>44.005</td>\n",
              "      <td>7Sunday</td>\n",
              "      <td>2May</td>\n",
              "      <td>0.075381</td>\n",
              "    </tr>\n",
              "  </tbody>\n",
              "</table>\n",
              "</div>"
            ],
            "text/plain": [
              "   month  day  attend day_of_week   opponent  temp   skies day_night cap  \\\n",
              "0    APR   10   56000     Tuesday    Pirates    67  Clear        Day  NO   \n",
              "5    APR   15   38359      Sunday     Padres    65  Clear        Day  NO   \n",
              "6    APR   23   26376      Monday     Braves    60  Cloudy     Night  NO   \n",
              "17   MAY   13   49124      Sunday    Rockies    70  Clear        Day  NO   \n",
              "22   MAY   20   44005      Sunday  Cardinals    77  Clear      Night  NO   \n",
              "\n",
              "   shirt fireworks bobblehead    division  attend_000 ordered_day_of_week  \\\n",
              "0     NO        NO         NO  Divisional      56.000            2Tuesday   \n",
              "5     NO        NO         NO       Cross      38.359             7Sunday   \n",
              "6     NO        NO         NO       Cross      26.376             1Monday   \n",
              "17    NO        NO         NO  Divisional      49.124             7Sunday   \n",
              "22    NO        NO         NO  Divisional      44.005             7Sunday   \n",
              "\n",
              "   ordered_month  runiform  \n",
              "0         1April  0.191519  \n",
              "5         1April  0.272593  \n",
              "6         1April  0.276464  \n",
              "17          2May  0.013768  \n",
              "22          2May  0.075381  "
            ]
          },
          "execution_count": 28,
          "metadata": {},
          "output_type": "execute_result"
        }
      ],
      "source": [
        "# SCRUB\n",
        "\n",
        "# employ training-and-test regimen for model validation\n",
        "np.random.seed(1234)\n",
        "dodgers['runiform'] = uniform.rvs(loc = 0, scale = 1, size = len(dodgers))\n",
        "dodgers_train = dodgers[dodgers['runiform'] >= 0.33]\n",
        "dodgers_test = dodgers[dodgers['runiform'] < 0.33]\n",
        "# check training data frame\n",
        "print('\\ndodgers_train data frame (rows, columns): ',dodgers_train.shape)\n",
        "print(dodgers_train.head())\n",
        "# check test data frame\n",
        "print('\\ndodgers_test data frame (rows, columns): ',dodgers_test.shape)\n",
        "dodgers_test.head()"
      ]
    },
    {
      "cell_type": "markdown",
      "metadata": {
        "id": "2XkZLzjzWnI6"
      },
      "source": [
        "What is the difference between continuous and categorical variables?¶\n"
      ]
    },
    {
      "cell_type": "markdown",
      "metadata": {
        "id": "fDNf1QY2WtcR"
      },
      "source": [
        "# And why should we care?¶\n"
      ]
    },
    {
      "cell_type": "code",
      "execution_count": 12,
      "metadata": {
        "colab": {
          "base_uri": "https://localhost:8080/",
          "height": 268
        },
        "id": "bXxD4ZiWEW7K",
        "outputId": "239db75d-6ff2-4757-d338-f48f4ddc92cb"
      },
      "outputs": [
        {
          "data": {
            "image/png": "[encoded data removed]",
            "text/plain": [
              "<Figure size 640x480 with 1 Axes>"
            ]
          },
          "metadata": {},
          "output_type": "display_data"
        }
      ],
      "source": [
        "# LETS LOOK AT ATTEND AS A FUNCTION OF TEMP AGAIN\n",
        "\n",
        "plt.scatter(\"temp\", \"attend\", alpha=.7, data=dodgers)\n",
        "plt.show()"
      ]
    },
    {
      "cell_type": "markdown",
      "metadata": {
        "id": "DwoiFNOIE2FR"
      },
      "source": [
        "Do we think Attend ~ f(Temp) will work well?"
      ]
    },
    {
      "cell_type": "code",
      "execution_count": 13,
      "metadata": {
        "colab": {
          "base_uri": "https://localhost:8080/",
          "height": 666
        },
        "id": "bIqOLslgWzDK",
        "outputId": "bcfedf2b-77ce-4106-db3f-eff7653c60fc"
      },
      "outputs": [
        {
          "name": "stdout",
          "output_type": "stream",
          "text": [
            "                            OLS Regression Results                            \n",
            "==============================================================================\n",
            "Dep. Variable:                 attend   R-squared:                       0.016\n",
            "Model:                            OLS   Adj. R-squared:                 -0.002\n",
            "Method:                 Least Squares   F-statistic:                    0.9075\n",
            "Date:                Tue, 25 Apr 2023   Prob (F-statistic):              0.345\n",
            "Time:                        18:44:04   Log-Likelihood:                -595.47\n",
            "No. Observations:                  57   AIC:                             1195.\n",
            "Df Residuals:                      55   BIC:                             1199.\n",
            "Df Model:                           1                                         \n",
            "Covariance Type:            nonrobust                                         \n",
            "==============================================================================\n",
            "                 coef    std err          t      P>|t|      [0.025      0.975]\n",
            "------------------------------------------------------------------------------\n",
            "Intercept   3.192e+04   9899.922      3.225      0.002    1.21e+04    5.18e+04\n",
            "temp         129.4781    135.915      0.953      0.345    -142.902     401.858\n",
            "==============================================================================\n",
            "Omnibus:                        6.787   Durbin-Watson:                   1.868\n",
            "Prob(Omnibus):                  0.034   Jarque-Bera (JB):                2.633\n",
            "Skew:                           0.160   Prob(JB):                        0.268\n",
            "Kurtosis:                       1.997   Cond. No.                         642.\n",
            "==============================================================================\n",
            "\n",
            "Notes:\n",
            "[1] Standard Errors assume that the covariance matrix of the errors is correctly specified.\n"
          ]
        },
        {
          "name": "stderr",
          "output_type": "stream",
          "text": [
            "/var/folders/50/cmvlyf1x0jxfqm3s7khyhbt40000gn/T/ipykernel_84064/301543821.py:11: SettingWithCopyWarning: \n",
            "A value is trying to be set on a copy of a slice from a DataFrame.\n",
            "Try using .loc[row_indexer,col_indexer] = value instead\n",
            "\n",
            "See the caveats in the documentation: https://pandas.pydata.org/pandas-docs/stable/user_guide/indexing.html#returning-a-view-versus-a-copy\n",
            "  dodgers_train['predict_attend'] = train_model_fit.fittedvalues\n",
            "/var/folders/50/cmvlyf1x0jxfqm3s7khyhbt40000gn/T/ipykernel_84064/301543821.py:14: SettingWithCopyWarning: \n",
            "A value is trying to be set on a copy of a slice from a DataFrame.\n",
            "Try using .loc[row_indexer,col_indexer] = value instead\n",
            "\n",
            "See the caveats in the documentation: https://pandas.pydata.org/pandas-docs/stable/user_guide/indexing.html#returning-a-view-versus-a-copy\n",
            "  dodgers_test['predict_attend'] = train_model_fit.predict(dodgers_test)\n"
          ]
        }
      ],
      "source": [
        "# MODEL - Single Variable linear regression\n",
        "\n",
        "# specify a simple model with attend as a function of temp\n",
        "my_model_simple = str('attend ~ temp')\n",
        "\n",
        "# fit the model to the training set\n",
        "train_model_fit = smf.ols(my_model_simple, data = dodgers_train).fit()\n",
        "# summary of model fit to the training set\n",
        "print(train_model_fit.summary())\n",
        "# training set predictions from the model fit to the training set\n",
        "dodgers_train['predict_attend'] = train_model_fit.fittedvalues\n",
        "\n",
        "# test set predictions from the model fit to the training set\n",
        "dodgers_test['predict_attend'] = train_model_fit.predict(dodgers_test)"
      ]
    },
    {
      "cell_type": "code",
      "execution_count": 14,
      "metadata": {
        "colab": {
          "base_uri": "https://localhost:8080/",
          "height": 904
        },
        "id": "R9VgJfx8W8ta",
        "outputId": "e55eb884-5fd8-4e61-8b39-cb85830923e1"
      },
      "outputs": [
        {
          "name": "stdout",
          "output_type": "stream",
          "text": [
            "                            OLS Regression Results                            \n",
            "==============================================================================\n",
            "Dep. Variable:                 attend   R-squared:                       0.468\n",
            "Model:                            OLS   Adj. R-squared:                  0.307\n",
            "Method:                 Least Squares   F-statistic:                     2.910\n",
            "Date:                Tue, 25 Apr 2023   Prob (F-statistic):            0.00420\n",
            "Time:                        18:44:05   Log-Likelihood:                -577.95\n",
            "No. Observations:                  57   AIC:                             1184.\n",
            "Df Residuals:                      43   BIC:                             1213.\n",
            "Df Model:                          13                                         \n",
            "Covariance Type:            nonrobust                                         \n",
            "=====================================================================================================\n",
            "                                        coef    std err          t      P>|t|      [0.025      0.975]\n",
            "-----------------------------------------------------------------------------------------------------\n",
            "Intercept                           2.49e+04   1.52e+04      1.638      0.109   -5759.104    5.56e+04\n",
            "ordered_month[T.2May]             -3869.7993   3288.457     -1.177      0.246   -1.05e+04    2762.006\n",
            "ordered_month[T.3June]             8052.7382   3972.408      2.027      0.049      41.613    1.61e+04\n",
            "ordered_month[T.4July]             4781.6755   4482.399      1.067      0.292   -4257.943    1.38e+04\n",
            "ordered_month[T.5Aug]              1682.8983   4677.278      0.360      0.721   -7749.732    1.11e+04\n",
            "ordered_month[T.6Sept]            -2775.6537   5823.370     -0.477      0.636   -1.45e+04    8968.292\n",
            "ordered_month[T.7Oct]             -3809.4764   8977.180     -0.424      0.673   -2.19e+04    1.43e+04\n",
            "ordered_day_of_week[T.2Tuesday]    1.252e+04   3667.325      3.413      0.001    5121.774    1.99e+04\n",
            "ordered_day_of_week[T.3Wednesday]   -84.0097   3926.058     -0.021      0.983   -8001.660    7833.641\n",
            "ordered_day_of_week[T.4Thursday]   3216.5549   4587.057      0.701      0.487   -6034.127    1.25e+04\n",
            "ordered_day_of_week[T.5Friday]     4513.4709   3602.427      1.253      0.217   -2751.516    1.18e+04\n",
            "ordered_day_of_week[T.6Saturday]   6213.1215   3538.844      1.756      0.086    -923.638    1.33e+04\n",
            "ordered_day_of_week[T.7Sunday]     3777.7044   3978.672      0.949      0.348   -4246.053    1.18e+04\n",
            "temp                                158.6002    231.180      0.686      0.496    -307.618     624.819\n",
            "==============================================================================\n",
            "Omnibus:                        2.027   Durbin-Watson:                   2.235\n",
            "Prob(Omnibus):                  0.363   Jarque-Bera (JB):                1.870\n",
            "Skew:                           0.432   Prob(JB):                        0.393\n",
            "Kurtosis:                       2.794   Cond. No.                     1.34e+03\n",
            "==============================================================================\n",
            "\n",
            "Notes:\n",
            "[1] Standard Errors assume that the covariance matrix of the errors is correctly specified.\n",
            "[2] The condition number is large, 1.34e+03. This might indicate that there are\n",
            "strong multicollinearity or other numerical problems.\n"
          ]
        },
        {
          "name": "stderr",
          "output_type": "stream",
          "text": [
            "/var/folders/50/cmvlyf1x0jxfqm3s7khyhbt40000gn/T/ipykernel_84064/2376146048.py:10: SettingWithCopyWarning: \n",
            "A value is trying to be set on a copy of a slice from a DataFrame.\n",
            "Try using .loc[row_indexer,col_indexer] = value instead\n",
            "\n",
            "See the caveats in the documentation: https://pandas.pydata.org/pandas-docs/stable/user_guide/indexing.html#returning-a-view-versus-a-copy\n",
            "  dodgers_train['predict_attend'] = train_model_fit.fittedvalues\n",
            "/var/folders/50/cmvlyf1x0jxfqm3s7khyhbt40000gn/T/ipykernel_84064/2376146048.py:13: SettingWithCopyWarning: \n",
            "A value is trying to be set on a copy of a slice from a DataFrame.\n",
            "Try using .loc[row_indexer,col_indexer] = value instead\n",
            "\n",
            "See the caveats in the documentation: https://pandas.pydata.org/pandas-docs/stable/user_guide/indexing.html#returning-a-view-versus-a-copy\n",
            "  dodgers_test['predict_attend'] = train_model_fit.predict(dodgers_test)\n"
          ]
        }
      ],
      "source": [
        "# MODEL\n",
        "\n",
        "my_model = str('attend ~ ordered_month + ordered_day_of_week + temp')\n",
        "\n",
        "# fit the model to the training set\n",
        "train_model_fit = smf.ols(my_model, data = dodgers_train).fit()\n",
        "# summary of model fit to the training set\n",
        "print(train_model_fit.summary())\n",
        "# training set predictions from the model fit to the training set\n",
        "dodgers_train['predict_attend'] = train_model_fit.fittedvalues\n",
        "\n",
        "# test set predictions from the model fit to the training set\n",
        "dodgers_test['predict_attend'] = train_model_fit.predict(dodgers_test)"
      ]
    },
    {
      "cell_type": "code",
      "execution_count": 15,
      "metadata": {
        "colab": {
          "base_uri": "https://localhost:8080/",
          "height": 921
        },
        "id": "xlJleSJNXCwL",
        "outputId": "ea0349fb-ad94-494e-8941-4055abad19e0"
      },
      "outputs": [
        {
          "name": "stdout",
          "output_type": "stream",
          "text": [
            "                            OLS Regression Results                            \n",
            "==============================================================================\n",
            "Dep. Variable:                 attend   R-squared:                       0.773\n",
            "Model:                            OLS   Adj. R-squared:                  0.697\n",
            "Method:                 Least Squares   F-statistic:                     10.21\n",
            "Date:                Tue, 25 Apr 2023   Prob (F-statistic):           2.08e-09\n",
            "Time:                        18:44:05   Log-Likelihood:                -553.69\n",
            "No. Observations:                  57   AIC:                             1137.\n",
            "Df Residuals:                      42   BIC:                             1168.\n",
            "Df Model:                          14                                         \n",
            "Covariance Type:            nonrobust                                         \n",
            "=====================================================================================================\n",
            "                                        coef    std err          t      P>|t|      [0.025      0.975]\n",
            "-----------------------------------------------------------------------------------------------------\n",
            "Intercept                          2.929e+04   1.01e+04      2.909      0.006    8973.306    4.96e+04\n",
            "ordered_month[T.2May]               584.6644   2253.704      0.259      0.797   -3963.494    5132.822\n",
            "ordered_month[T.3June]             3813.9370   2686.405      1.420      0.163   -1607.447    9235.321\n",
            "ordered_month[T.4July]             5009.7775   2963.749      1.690      0.098    -971.311     1.1e+04\n",
            "ordered_month[T.5Aug]              3604.4688   3103.014      1.162      0.252   -2657.667    9866.605\n",
            "ordered_month[T.6Sept]              300.9676   3871.940      0.078      0.938   -7512.924    8114.859\n",
            "ordered_month[T.7Oct]              1950.9041   5984.759      0.326      0.746   -1.01e+04     1.4e+04\n",
            "ordered_day_of_week[T.2Tuesday]    5762.4878   2586.253      2.228      0.031     543.219     1.1e+04\n",
            "ordered_day_of_week[T.3Wednesday]   649.0205   2597.598      0.250      0.804   -4593.144    5891.185\n",
            "ordered_day_of_week[T.4Thursday]    145.1171   3060.257      0.047      0.962   -6030.732    6320.966\n",
            "ordered_day_of_week[T.5Friday]     1186.3441   2422.665      0.490      0.627   -3702.793    6075.481\n",
            "ordered_day_of_week[T.6Saturday]   2565.0273   2389.673      1.073      0.289   -2257.529    7387.583\n",
            "ordered_day_of_week[T.7Sunday]     3021.4421   2632.477      1.148      0.258   -2291.111    8333.995\n",
            "division[T.Divisional]             1.168e+04   1555.994      7.508      0.000    8542.026    1.48e+04\n",
            "temp                                 25.8578    153.867      0.168      0.867    -284.658     336.373\n",
            "==============================================================================\n",
            "Omnibus:                        1.599   Durbin-Watson:                   2.251\n",
            "Prob(Omnibus):                  0.450   Jarque-Bera (JB):                1.171\n",
            "Skew:                          -0.068   Prob(JB):                        0.557\n",
            "Kurtosis:                       2.311   Cond. No.                     1.34e+03\n",
            "==============================================================================\n",
            "\n",
            "Notes:\n",
            "[1] Standard Errors assume that the covariance matrix of the errors is correctly specified.\n",
            "[2] The condition number is large, 1.34e+03. This might indicate that there are\n",
            "strong multicollinearity or other numerical problems.\n"
          ]
        },
        {
          "name": "stderr",
          "output_type": "stream",
          "text": [
            "/var/folders/50/cmvlyf1x0jxfqm3s7khyhbt40000gn/T/ipykernel_84064/982700825.py:10: SettingWithCopyWarning: \n",
            "A value is trying to be set on a copy of a slice from a DataFrame.\n",
            "Try using .loc[row_indexer,col_indexer] = value instead\n",
            "\n",
            "See the caveats in the documentation: https://pandas.pydata.org/pandas-docs/stable/user_guide/indexing.html#returning-a-view-versus-a-copy\n",
            "  dodgers_train['predict_attend'] = train_model_fit.fittedvalues\n",
            "/var/folders/50/cmvlyf1x0jxfqm3s7khyhbt40000gn/T/ipykernel_84064/982700825.py:13: SettingWithCopyWarning: \n",
            "A value is trying to be set on a copy of a slice from a DataFrame.\n",
            "Try using .loc[row_indexer,col_indexer] = value instead\n",
            "\n",
            "See the caveats in the documentation: https://pandas.pydata.org/pandas-docs/stable/user_guide/indexing.html#returning-a-view-versus-a-copy\n",
            "  dodgers_test['predict_attend'] = train_model_fit.predict(dodgers_test)\n"
          ]
        }
      ],
      "source": [
        "# MODEL\n",
        "\n",
        "my_model = str('attend ~ ordered_month + ordered_day_of_week + temp + division')\n",
        "\n",
        "# fit the model to the training set\n",
        "train_model_fit = smf.ols(my_model, data = dodgers_train).fit()\n",
        "# summary of model fit to the training set\n",
        "print(train_model_fit.summary())\n",
        "# training set predictions from the model fit to the training set\n",
        "dodgers_train['predict_attend'] = train_model_fit.fittedvalues\n",
        "\n",
        "# test set predictions from the model fit to the training set\n",
        "dodgers_test['predict_attend'] = train_model_fit.predict(dodgers_test)"
      ]
    },
    {
      "cell_type": "code",
      "execution_count": 16,
      "metadata": {
        "colab": {
          "base_uri": "https://localhost:8080/",
          "height": 285
        },
        "id": "UlwqfbLlXHPj",
        "outputId": "61170369-bcce-4f2a-8bd2-ab4854b7bcd3"
      },
      "outputs": [
        {
          "data": {
            "image/png": "[encoded data removed]",
            "text/plain": [
              "<Figure size 640x480 with 1 Axes>"
            ]
          },
          "metadata": {},
          "output_type": "display_data"
        }
      ],
      "source": [
        "# WHY DOES THIS WORK?\n",
        "\n",
        "# EXPLORE\n",
        "\n",
        "sns.boxplot(x=\"division\", y=\"attend\", data=dodgers, color = \"gray\")\n",
        "plt.show()"
      ]
    },
    {
      "cell_type": "code",
      "execution_count": 17,
      "metadata": {
        "colab": {
          "base_uri": "https://localhost:8080/",
          "height": 765
        },
        "id": "Em3o9aZMXLX9",
        "outputId": "5c7511a6-3619-42cd-88b6-fccb8c600f6c"
      },
      "outputs": [
        {
          "name": "stdout",
          "output_type": "stream",
          "text": [
            "\n",
            "Proportion of Test Set Variance Accounted for:  0.654\n",
            "                            OLS Regression Results                            \n",
            "==============================================================================\n",
            "Dep. Variable:                 attend   R-squared:                       0.740\n",
            "Model:                            OLS   Adj. R-squared:                  0.684\n",
            "Method:                 Least Squares   F-statistic:                     13.39\n",
            "Date:                Tue, 25 Apr 2023   Prob (F-statistic):           2.96e-14\n",
            "Time:                        18:44:06   Log-Likelihood:                -790.86\n",
            "No. Observations:                  81   AIC:                             1612.\n",
            "Df Residuals:                      66   BIC:                             1648.\n",
            "Df Model:                          14                                         \n",
            "Covariance Type:            nonrobust                                         \n",
            "=====================================================================================================\n",
            "                                        coef    std err          t      P>|t|      [0.025      0.975]\n",
            "-----------------------------------------------------------------------------------------------------\n",
            "Intercept                          2.385e+04   8129.380      2.933      0.005    7614.677    4.01e+04\n",
            "ordered_month[T.2May]              -964.9691   1898.582     -0.508      0.613   -4755.610    2825.672\n",
            "ordered_month[T.3June]             1971.3590   2362.316      0.835      0.407   -2745.157    6687.875\n",
            "ordered_month[T.4July]             3075.5584   2306.266      1.334      0.187   -1529.050    7680.167\n",
            "ordered_month[T.5Aug]               556.2247   2584.157      0.215      0.830   -4603.211    5715.660\n",
            "ordered_month[T.6Sept]            -3238.4359   3272.364     -0.990      0.326   -9771.922    3295.051\n",
            "ordered_month[T.7Oct]             -3222.6851   4077.866     -0.790      0.432   -1.14e+04    4919.037\n",
            "ordered_day_of_week[T.2Tuesday]    5107.2349   2057.841      2.482      0.016     998.622    9215.848\n",
            "ordered_day_of_week[T.3Wednesday]   840.9701   1923.721      0.437      0.663   -2999.862    4681.803\n",
            "ordered_day_of_week[T.4Thursday]   1169.0782   2578.512      0.453      0.652   -3979.086    6317.243\n",
            "ordered_day_of_week[T.5Friday]     1627.1233   1985.461      0.820      0.415   -2336.978    5591.225\n",
            "ordered_day_of_week[T.6Saturday]   2762.5645   2013.754      1.372      0.175   -1258.026    6783.154\n",
            "ordered_day_of_week[T.7Sunday]     2941.9877   2053.540      1.433      0.157   -1158.037    7042.012\n",
            "division[T.Divisional]             1.132e+04   1269.521      8.921      0.000    8790.297    1.39e+04\n",
            "temp                                123.3839    126.935      0.972      0.335    -130.050     376.818\n",
            "==============================================================================\n",
            "Omnibus:                       13.469   Durbin-Watson:                   2.315\n",
            "Prob(Omnibus):                  0.001   Jarque-Bera (JB):                3.798\n",
            "Skew:                          -0.025   Prob(JB):                        0.150\n",
            "Kurtosis:                       1.940   Cond. No.                     1.32e+03\n",
            "==============================================================================\n",
            "\n",
            "Notes:\n",
            "[1] Standard Errors assume that the covariance matrix of the errors is correctly specified.\n",
            "[2] The condition number is large, 1.32e+03. This might indicate that there are\n",
            "strong multicollinearity or other numerical problems.\n",
            "\n",
            "Estimated Effect of Divisional Game on Attendance:  11325.0\n"
          ]
        }
      ],
      "source": [
        "# MODEL\n",
        "# compute the proportion of response variance\n",
        "# accounted for when predicting out-of-sample\n",
        "print('\\nProportion of Test Set Variance Accounted for: ',\\\n",
        "    round(np.power(dodgers_test['attend'].corr(dodgers_test['predict_attend']),2),3))\n",
        "\n",
        "# use the full data set to obtain an estimate of the increase in\n",
        "# attendance due to bobbleheads, controlling for other factors \n",
        "my_model_fit = smf.ols(my_model, data = dodgers).fit()\n",
        "print(my_model_fit.summary())\n",
        "\n",
        "print('\\nEstimated Effect of Divisional Game on Attendance: ',\\\n",
        "    round(my_model_fit.params[13],0))\n",
        "    \n",
        "# Suggestions for the student: Reproduce the figures in this chapter\n",
        "# using matplotlib, ggplot, and/or rpy2 calls to R graphics. \n",
        "# Examine regression diagnostics for the fitted model.\n",
        "# Examine other linear predictors and other explanatory variables.\n",
        "# See if you can improve upon the model with variable transformations."
      ]
    },
    {
      "cell_type": "code",
      "execution_count": 19,
      "metadata": {
        "colab": {
          "base_uri": "https://localhost:8080/",
          "height": 321
        },
        "id": "wemxxtv3XQhM",
        "outputId": "d71196d3-d682-45b5-e377-daa6b1d9987d"
      },
      "outputs": [
        {
          "name": "stderr",
          "output_type": "stream",
          "text": [
            "/var/folders/50/cmvlyf1x0jxfqm3s7khyhbt40000gn/T/ipykernel_84064/4285079013.py:2: FutureWarning: The default value of numeric_only in DataFrame.corr is deprecated. In a future version, it will default to False. Select only valid columns or specify the value of numeric_only to silence this warning.\n",
            "  corr = dodgerDF.corr()\n"
          ]
        },
        {
          "data": {
            "image/png": "[encoded data removed]",
            "text/plain": [
              "<Figure size 640x480 with 2 Axes>"
            ]
          },
          "metadata": {},
          "output_type": "display_data"
        }
      ],
      "source": [
        "# EXPLORE\n",
        "corr = dodgerDF.corr()\n",
        "\n",
        "# Generate a mask for the upper triangle\n",
        "mask = np.zeros_like(corr)\n",
        "mask[np.triu_indices_from(mask)] = True\n",
        "\n",
        "# Set up the matplotlib figure\n",
        "#f, ax = plt.subplots(figsize=(11, 9))\n",
        "\n",
        "# Generate a custom diverging colormap\n",
        "cmap = sns.diverging_palette(220, 10, as_cmap=True)\n",
        "\n",
        "# Draw the heatmap with the mask and correct aspect ratio\n",
        "sns.heatmap(corr, mask=mask, cmap=cmap, vmax=.3, center=0,\n",
        "            square=True, linewidths=.5, cbar_kws={\"shrink\": .5})\n",
        "plt.show()"
      ]
    },
    {
      "cell_type": "markdown",
      "metadata": {
        "id": "kZidijBhXc0b"
      },
      "source": [
        "# Do we have to use statsmodel?\n",
        "Don't we have other choices?\n",
        "\n",
        "Learn more [here](https://scikit-learn.org/stable/modules/generated/sklearn.linear_model.LinearRegression.html)"
      ]
    },
    {
      "cell_type": "code",
      "execution_count": 20,
      "metadata": {
        "colab": {
          "base_uri": "https://localhost:8080/",
          "height": 224
        },
        "id": "kldJbIsxXjjD",
        "outputId": "17b66e29-aa43-4283-e471-339f95a71fe9"
      },
      "outputs": [
        {
          "data": {
            "text/html": [
              "<div>\n",
              "<style scoped>\n",
              "    .dataframe tbody tr th:only-of-type {\n",
              "        vertical-align: middle;\n",
              "    }\n",
              "\n",
              "    .dataframe tbody tr th {\n",
              "        vertical-align: top;\n",
              "    }\n",
              "\n",
              "    .dataframe thead th {\n",
              "        text-align: right;\n",
              "    }\n",
              "</style>\n",
              "<table border=\"1\" class=\"dataframe\">\n",
              "  <thead>\n",
              "    <tr style=\"text-align: right;\">\n",
              "      <th></th>\n",
              "      <th>month</th>\n",
              "      <th>day</th>\n",
              "      <th>attend</th>\n",
              "      <th>day_of_week</th>\n",
              "      <th>opponent</th>\n",
              "      <th>temp</th>\n",
              "      <th>skies</th>\n",
              "      <th>day_night</th>\n",
              "      <th>cap</th>\n",
              "      <th>shirt</th>\n",
              "      <th>fireworks</th>\n",
              "      <th>bobblehead</th>\n",
              "      <th>division</th>\n",
              "      <th>attend_000</th>\n",
              "      <th>ordered_day_of_week</th>\n",
              "      <th>ordered_month</th>\n",
              "      <th>runiform</th>\n",
              "    </tr>\n",
              "  </thead>\n",
              "  <tbody>\n",
              "    <tr>\n",
              "      <th>0</th>\n",
              "      <td>APR</td>\n",
              "      <td>10</td>\n",
              "      <td>56000</td>\n",
              "      <td>Tuesday</td>\n",
              "      <td>Pirates</td>\n",
              "      <td>67</td>\n",
              "      <td>Clear</td>\n",
              "      <td>Day</td>\n",
              "      <td>NO</td>\n",
              "      <td>NO</td>\n",
              "      <td>NO</td>\n",
              "      <td>NO</td>\n",
              "      <td>Divisional</td>\n",
              "      <td>56.000</td>\n",
              "      <td>2Tuesday</td>\n",
              "      <td>1April</td>\n",
              "      <td>0.191519</td>\n",
              "    </tr>\n",
              "    <tr>\n",
              "      <th>1</th>\n",
              "      <td>APR</td>\n",
              "      <td>11</td>\n",
              "      <td>29729</td>\n",
              "      <td>Wednesday</td>\n",
              "      <td>Pirates</td>\n",
              "      <td>58</td>\n",
              "      <td>Cloudy</td>\n",
              "      <td>Night</td>\n",
              "      <td>NO</td>\n",
              "      <td>NO</td>\n",
              "      <td>NO</td>\n",
              "      <td>NO</td>\n",
              "      <td>Cross</td>\n",
              "      <td>29.729</td>\n",
              "      <td>3Wednesday</td>\n",
              "      <td>1April</td>\n",
              "      <td>0.622109</td>\n",
              "    </tr>\n",
              "    <tr>\n",
              "      <th>2</th>\n",
              "      <td>APR</td>\n",
              "      <td>12</td>\n",
              "      <td>28328</td>\n",
              "      <td>Thursday</td>\n",
              "      <td>Pirates</td>\n",
              "      <td>57</td>\n",
              "      <td>Cloudy</td>\n",
              "      <td>Night</td>\n",
              "      <td>NO</td>\n",
              "      <td>NO</td>\n",
              "      <td>NO</td>\n",
              "      <td>NO</td>\n",
              "      <td>Cross</td>\n",
              "      <td>28.328</td>\n",
              "      <td>4Thursday</td>\n",
              "      <td>1April</td>\n",
              "      <td>0.437728</td>\n",
              "    </tr>\n",
              "    <tr>\n",
              "      <th>3</th>\n",
              "      <td>APR</td>\n",
              "      <td>13</td>\n",
              "      <td>31601</td>\n",
              "      <td>Friday</td>\n",
              "      <td>Padres</td>\n",
              "      <td>54</td>\n",
              "      <td>Cloudy</td>\n",
              "      <td>Night</td>\n",
              "      <td>NO</td>\n",
              "      <td>NO</td>\n",
              "      <td>YES</td>\n",
              "      <td>NO</td>\n",
              "      <td>Cross</td>\n",
              "      <td>31.601</td>\n",
              "      <td>5Friday</td>\n",
              "      <td>1April</td>\n",
              "      <td>0.785359</td>\n",
              "    </tr>\n",
              "    <tr>\n",
              "      <th>4</th>\n",
              "      <td>APR</td>\n",
              "      <td>14</td>\n",
              "      <td>46549</td>\n",
              "      <td>Saturday</td>\n",
              "      <td>Padres</td>\n",
              "      <td>57</td>\n",
              "      <td>Cloudy</td>\n",
              "      <td>Night</td>\n",
              "      <td>NO</td>\n",
              "      <td>NO</td>\n",
              "      <td>NO</td>\n",
              "      <td>NO</td>\n",
              "      <td>Divisional</td>\n",
              "      <td>46.549</td>\n",
              "      <td>6Saturday</td>\n",
              "      <td>1April</td>\n",
              "      <td>0.779976</td>\n",
              "    </tr>\n",
              "  </tbody>\n",
              "</table>\n",
              "</div>"
            ],
            "text/plain": [
              "  month  day  attend day_of_week opponent  temp   skies day_night cap shirt  \\\n",
              "0   APR   10   56000     Tuesday  Pirates    67  Clear        Day  NO    NO   \n",
              "1   APR   11   29729   Wednesday  Pirates    58  Cloudy     Night  NO    NO   \n",
              "2   APR   12   28328    Thursday  Pirates    57  Cloudy     Night  NO    NO   \n",
              "3   APR   13   31601      Friday   Padres    54  Cloudy     Night  NO    NO   \n",
              "4   APR   14   46549    Saturday   Padres    57  Cloudy     Night  NO    NO   \n",
              "\n",
              "  fireworks bobblehead    division  attend_000 ordered_day_of_week  \\\n",
              "0        NO         NO  Divisional      56.000            2Tuesday   \n",
              "1        NO         NO       Cross      29.729          3Wednesday   \n",
              "2        NO         NO       Cross      28.328           4Thursday   \n",
              "3       YES         NO       Cross      31.601             5Friday   \n",
              "4        NO         NO  Divisional      46.549           6Saturday   \n",
              "\n",
              "  ordered_month  runiform  \n",
              "0        1April  0.191519  \n",
              "1        1April  0.622109  \n",
              "2        1April  0.437728  \n",
              "3        1April  0.785359  \n",
              "4        1April  0.779976  "
            ]
          },
          "execution_count": 20,
          "metadata": {},
          "output_type": "execute_result"
        }
      ],
      "source": [
        "# EXPLORE\n",
        "dodgers.head()\n"
      ]
    },
    {
      "cell_type": "code",
      "execution_count": 21,
      "metadata": {
        "id": "2Qqtx8oBXpcD"
      },
      "outputs": [],
      "source": [
        "# SCRUB\n",
        "\n",
        "from sklearn import preprocessing\n",
        "from sklearn.linear_model import LinearRegression\n",
        "\n",
        "# There are many ways to subset data - this is one\n",
        "dodgersX = dodgers[['temp']]\n",
        "dodgersY = dodgers[['attend']]"
      ]
    },
    {
      "cell_type": "code",
      "execution_count": 22,
      "metadata": {
        "colab": {
          "base_uri": "https://localhost:8080/",
          "height": 34
        },
        "id": "3HmkvfIgXvDr",
        "outputId": "be09d518-44b9-49f4-ab8f-6b2789340f5a"
      },
      "outputs": [
        {
          "data": {
            "text/plain": [
              "0.009791247146878512"
            ]
          },
          "execution_count": 22,
          "metadata": {},
          "output_type": "execute_result"
        }
      ],
      "source": [
        "# MODEL\n",
        "\n",
        "# Create a basic linear model\n",
        "\n",
        "model_new = LinearRegression().fit(dodgersX, dodgersY)\n",
        "\n",
        "model_new.score(dodgersX, dodgersY)"
      ]
    },
    {
      "cell_type": "code",
      "execution_count": 23,
      "metadata": {
        "colab": {
          "base_uri": "https://localhost:8080/",
          "height": 35
        },
        "id": "lLC1PPUfYXs-",
        "outputId": "67855dfc-a89e-4e6e-c199-12ccc75fdd63"
      },
      "outputs": [
        {
          "data": {
            "text/plain": [
              "{'copy_X': True, 'fit_intercept': True, 'n_jobs': None, 'positive': False}"
            ]
          },
          "execution_count": 23,
          "metadata": {},
          "output_type": "execute_result"
        }
      ],
      "source": [
        "model_new.get_params(deep=True)"
      ]
    },
    {
      "cell_type": "code",
      "execution_count": null,
      "metadata": {},
      "outputs": [],
      "source": []
    }
  ],
  "metadata": {
    "colab": {
      "authorship_tag": "ABX9TyOMRMT/W2DHSa1dqJKHypXg",
      "include_colab_link": true,
      "name": "AsynchSampleWeek3.ipynb",
      "provenance": []
    },
    "kernelspec": {
      "display_name": "Python 3",
      "name": "python3"
    },
    "language_info": {
      "codemirror_mode": {
        "name": "ipython",
        "version": 3
      },
      "file_extension": ".py",
      "mimetype": "text/x-python",
      "name": "python",
      "nbconvert_exporter": "python",
      "pygments_lexer": "ipython3",
      "version": "3.9.6"
    }
  },
  "nbformat": 4,
  "nbformat_minor": 0
}
