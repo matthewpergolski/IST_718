{
  "nbformat": 4,
  "nbformat_minor": 0,
  "metadata": {
    "colab": {
      "provenance": []
    },
    "kernelspec": {
      "name": "python3",
      "display_name": "Python 3"
    },
    "language_info": {
      "name": "python"
    },
    "accelerator": "GPU",
    "gpuClass": "standard"
  },
  "cells": [
    {
      "cell_type": "markdown",
      "source": [
        "#IST 718\n",
        "##LAB 3 ASSIGNMENT\n",
        "###Matthew L. Pergolski | Professor Jillian Lando"
      ],
      "metadata": {
        "id": "H6IOxwwjPa1s"
      }
    },
    {
      "cell_type": "markdown",
      "source": [
        "## Overview\n",
        "In the IST 718 Lab 3 assignment, the O-S-E-M-IN method will be conducted to perform image classification on digits and fashion items as part of the mnsit dataset found here:\n",
        "\n",
        "https://github.com/zalandoresearch/fashion-mnist/tree/master/data\n",
        "\n",
        "•\tO | \n",
        "Obtain: In the obtaining section, Data Acquisition will be discussed and referenced.\n",
        "\n",
        "•\tS | \n",
        "Scrub: In the scrubbing section, Data Cleaning will be discussed and referenced.\n",
        "\n",
        "•\tE | \n",
        "Explore: In the exploring section, Data Exploration will be discussed and referenced.\n",
        "\n",
        "•\tM | \n",
        "Model: In the modeling section, Data Modeling techniques will be discussed – the workings of our linear model will be introduced and referenced.\n",
        "\n",
        "•\tIN | \n",
        "Interpret: In the interpreting section, we will summarize the results and provide the overall recommendation to the stakeholder.\n",
        "\n"
      ],
      "metadata": {
        "id": "-BNysCTwQELb"
      }
    },
    {
      "cell_type": "markdown",
      "source": [
        "For this lab, the O, S, and E items will be combined, since the dataset was provided by the IST 718 class.  It contains images of digits as well as fashion items.  For each respective datset, we performed a `wget` command that collects data from a specific address on the internet.  The `gz` files are then uncompressed to access the full image dataset.  This was completed for both the MNIST and Fashion-MNIST datasets\n",
        "\n",
        "For Modeling techniques, Naive Bayes and the Keras models were chosen for both datasets.  Findings will be discussed in the `Questions` section of this report."
      ],
      "metadata": {
        "id": "-o8NUkFwXAO_"
      }
    },
    {
      "cell_type": "markdown",
      "source": [
        "# MNIST"
      ],
      "metadata": {
        "id": "l9U6kqc2Xs5C"
      }
    },
    {
      "cell_type": "markdown",
      "source": [
        "### Data Imports and Cleaning/Exploration"
      ],
      "metadata": {
        "id": "GNlnv1-fPgMy"
      }
    },
    {
      "cell_type": "code",
      "execution_count": null,
      "metadata": {
        "id": "0EIMPujxQEPK"
      },
      "outputs": [],
      "source": [
        "import gzip\n",
        "import os\n",
        "import sys\n",
        "import struct\n",
        "import numpy as np\n",
        "\n"
      ]
    },
    {
      "cell_type": "code",
      "source": [
        "# Cleaning -- downloading from web and transforming into numpy array(s)"
      ],
      "metadata": {
        "id": "Ji2HJ8OCdzXu"
      },
      "execution_count": null,
      "outputs": []
    },
    {
      "cell_type": "code",
      "source": [
        "def read_image(fi):\n",
        "    magic, n, rows, columns = struct.unpack(\">IIII\", fi.read(16))\n",
        "    assert magic == 0x00000803\n",
        "    assert rows == 28\n",
        "    assert columns == 28\n",
        "    rawbuffer = fi.read()\n",
        "    assert len(rawbuffer) == n * rows * columns\n",
        "    rawdata = np.frombuffer(rawbuffer, dtype='>u1', count=n*rows*columns)\n",
        "    return rawdata.reshape(n, rows, columns).astype(np.float32) / 255.0\n",
        "\n",
        "def read_label(fi):\n",
        "    magic, n = struct.unpack(\">II\", fi.read(8))\n",
        "    assert magic == 0x00000801\n",
        "    rawbuffer = fi.read()\n",
        "    assert len(rawbuffer) == n\n",
        "    return np.frombuffer(rawbuffer, dtype='>u1', count=n)\n",
        "\n"
      ],
      "metadata": {
        "id": "eGW29vxgQIbQ"
      },
      "execution_count": null,
      "outputs": []
    },
    {
      "cell_type": "code",
      "source": [
        "if __name__ == '__main__':\n",
        "    os.system('wget -N http://yann.lecun.com/exdb/mnist/train-images-idx3-ubyte.gz')\n",
        "    os.system('wget -N http://yann.lecun.com/exdb/mnist/train-labels-idx1-ubyte.gz')\n",
        "    os.system('wget -N http://yann.lecun.com/exdb/mnist/t10k-images-idx3-ubyte.gz')\n",
        "    os.system('wget -N http://yann.lecun.com/exdb/mnist/t10k-labels-idx1-ubyte.gz')\n",
        "    \n",
        "    np.savez_compressed(\n",
        "        'mnist',\n",
        "        train_x=read_image(gzip.open('train-images-idx3-ubyte.gz', 'rb')),\n",
        "        train_y=read_label(gzip.open('train-labels-idx1-ubyte.gz', 'rb')),\n",
        "        test_x=read_image(gzip.open('t10k-images-idx3-ubyte.gz', 'rb')),\n",
        "        test_y=read_label(gzip.open('t10k-labels-idx1-ubyte.gz', 'rb'))\n",
        "    )"
      ],
      "metadata": {
        "id": "r0X7XtabQKod"
      },
      "execution_count": null,
      "outputs": []
    },
    {
      "cell_type": "code",
      "source": [
        "# Initial Data Analysis"
      ],
      "metadata": {
        "id": "HUnrhfOOd8Vs"
      },
      "execution_count": null,
      "outputs": []
    },
    {
      "cell_type": "code",
      "source": [
        "import numpy as np\n",
        "data = np.load('mnist.npz')\n",
        "\n",
        "print(data['train_x'].shape, data['train_x'].dtype)\n",
        "print(data['train_y'].shape, data['train_y'].dtype)\n",
        "print(data['test_x'].shape, data['test_x'].dtype)\n",
        "print(data['test_y'].shape, data['test_y'].dtype)"
      ],
      "metadata": {
        "colab": {
          "base_uri": "https://localhost:8080/"
        },
        "id": "_E5QFLW-QQir",
        "outputId": "fe00ff16-eb92-48bd-fca8-8d77f3735150"
      },
      "execution_count": null,
      "outputs": [
        {
          "output_type": "stream",
          "name": "stdout",
          "text": [
            "(60000, 28, 28) float32\n",
            "(60000,) uint8\n",
            "(10000, 28, 28) float32\n",
            "(10000,) uint8\n"
          ]
        }
      ]
    },
    {
      "cell_type": "code",
      "source": [
        "import matplotlib.pyplot as plt\n",
        "import numpy as np\n",
        "import seaborn as sns\n",
        "\n",
        "i = 4\n",
        "\n",
        "data = np.load('mnist.npz')\n",
        "image = data['train_x'][i]\n",
        "label = data['train_y'][i]\n",
        "\n",
        "print(label)\n",
        "f, ax = plt.subplots(figsize=(16, 16))\n",
        "sns.heatmap(image, annot=True, fmt='.1f', square=True, cmap=\"YlGnBu\")\n",
        "plt.show()"
      ],
      "metadata": {
        "colab": {
          "base_uri": "https://localhost:8080/",
          "height": 1000
        },
        "id": "mamyNhdGQsXN",
        "outputId": "0527c083-0f1a-4328-d3b6-1d94d6ebb581"
      },
      "execution_count": null,
      "outputs": [
        {
          "output_type": "stream",
          "name": "stdout",
          "text": [
            "9\n"
          ]
        },
        {
          "output_type": "display_data",
          "data": {
            "text/plain": [
              "<Figure size 1600x1600 with 2 Axes>"
            ],
            "image/png": "[encoded data removed]"
          },
          "metadata": {}
        }
      ]
    },
    {
      "cell_type": "code",
      "source": [
        "# Naive Bayes"
      ],
      "metadata": {
        "id": "AydDfSlHREOi"
      },
      "execution_count": null,
      "outputs": []
    },
    {
      "cell_type": "code",
      "source": [
        "import numpy as np\n",
        "from sklearn.naive_bayes import GaussianNB\n",
        "\n",
        "data = np.load('mnist.npz')\n",
        "train_x = data['train_x']\n",
        "train_y = data['train_y']\n",
        "test_x = data['test_x']\n",
        "test_y = data['test_y']\n",
        "\n",
        "train_x = train_x.reshape(train_x.shape[0], -1)\n",
        "test_x = test_x.reshape(test_x.shape[0], -1)\n",
        "\n",
        "clf = GaussianNB()\n",
        "clf.fit(train_x, train_y)\n",
        "\n",
        "y_pred = clf.predict(test_x)\n",
        "\n",
        "accuracy = np.mean(y_pred == test_y)\n",
        "print('Accuracy:', accuracy)\n",
        "\n",
        "from sklearn.metrics import confusion_matrix\n",
        "confusion_matrix(test_y, y_pred)"
      ],
      "metadata": {
        "colab": {
          "base_uri": "https://localhost:8080/"
        },
        "id": "QtqmbJ-WcJkE",
        "outputId": "c45afde2-2ccb-4318-9751-12dd81a029fa"
      },
      "execution_count": null,
      "outputs": [
        {
          "output_type": "stream",
          "name": "stdout",
          "text": [
            "Accuracy: 0.5558\n"
          ]
        },
        {
          "output_type": "execute_result",
          "data": {
            "text/plain": [
              "array([[ 870,    0,    3,    5,    2,    5,   31,    1,   35,   28],\n",
              "       [   0, 1079,    2,    1,    0,    0,   10,    0,   38,    5],\n",
              "       [  79,   25,  266,   91,    5,    2,  269,    4,  271,   20],\n",
              "       [  32,   39,    6,  353,    2,    3,   51,    8,  409,  107],\n",
              "       [  19,    2,    5,    4,  168,    7,   63,    7,  210,  497],\n",
              "       [  71,   25,    1,   20,    3,   44,   40,    2,  586,  100],\n",
              "       [  12,   12,    3,    1,    1,    7,  895,    0,   26,    1],\n",
              "       [   0,   15,    2,   10,    5,    1,    5,  280,   39,  671],\n",
              "       [  13,   72,    3,    7,    3,   11,   12,    4,  648,  201],\n",
              "       [   5,    7,    3,    6,    1,    0,    1,   13,   18,  955]])"
            ]
          },
          "metadata": {},
          "execution_count": 12
        }
      ]
    },
    {
      "cell_type": "code",
      "source": [
        "# Try to improve Naive Bayes model with normalization\n",
        "\n",
        "# Model may be holding us back"
      ],
      "metadata": {
        "id": "Pm9zoLlsgkH9"
      },
      "execution_count": null,
      "outputs": []
    },
    {
      "cell_type": "code",
      "source": [
        "import numpy as np\n",
        "from sklearn.naive_bayes import GaussianNB\n",
        "\n",
        "data = np.load('mnist.npz')\n",
        "train_x = data['train_x']\n",
        "train_y = data['train_y']\n",
        "test_x = data['test_x']\n",
        "test_y = data['test_y']\n",
        "\n",
        "train_x = train_x.reshape(train_x.shape[0], -1)\n",
        "test_x = test_x.reshape(test_x.shape[0], -1)\n",
        "\n",
        "train_x = train_x / 255.0\n",
        "test_x = test_x / 255.0\n",
        "\n",
        "clf = GaussianNB()\n",
        "clf.fit(train_x, train_y)\n",
        "\n",
        "y_pred = clf.predict(test_x)\n",
        "\n",
        "accuracy = np.mean(y_pred == test_y)\n",
        "print('Accuracy:', accuracy)"
      ],
      "metadata": {
        "colab": {
          "base_uri": "https://localhost:8080/"
        },
        "id": "BG4YMRX5heRL",
        "outputId": "9633ca1b-86aa-49c1-83f8-9572f311f966"
      },
      "execution_count": null,
      "outputs": [
        {
          "output_type": "stream",
          "name": "stdout",
          "text": [
            "Accuracy: 0.5558\n"
          ]
        }
      ]
    },
    {
      "cell_type": "code",
      "source": [
        "import numpy as np\n",
        "from keras.models import Sequential\n",
        "from keras.layers import Dense\n",
        "\n",
        "data = np.load('mnist.npz')\n",
        "train_x = data['train_x']\n",
        "train_y = data['train_y']\n",
        "test_x = data['test_x']\n",
        "test_y = data['test_y']\n",
        "\n",
        "train_x = train_x.reshape(train_x.shape[0], -1)\n",
        "test_x = test_x.reshape(test_x.shape[0], -1)\n",
        "\n",
        "train_x = train_x / 255.0\n",
        "test_x = test_x / 255.0\n",
        "\n",
        "num_classes = len(np.unique(train_y))\n",
        "train_y = np.eye(num_classes)[train_y]\n",
        "test_y = np.eye(num_classes)[test_y]\n",
        "\n",
        "model = Sequential()\n",
        "model.add(Dense(512, activation='relu', input_shape=(784,)))\n",
        "model.add(Dense(256, activation='relu'))\n",
        "model.add(Dense(num_classes, activation='softmax'))\n",
        "\n",
        "model.compile(loss='categorical_crossentropy', optimizer='adam', metrics=['accuracy'])\n",
        "\n",
        "model.fit(train_x, train_y, batch_size=128, epochs=10)\n",
        "\n",
        "loss, accuracy = model.evaluate(test_x, test_y)\n",
        "print('Loss:', loss)\n",
        "print('Accuracy:', accuracy)"
      ],
      "metadata": {
        "colab": {
          "base_uri": "https://localhost:8080/"
        },
        "id": "CkVGkItmcM1-",
        "outputId": "6390f514-209e-42db-cf46-03f8fb58c8b6"
      },
      "execution_count": null,
      "outputs": [
        {
          "output_type": "stream",
          "name": "stdout",
          "text": [
            "Epoch 1/10\n",
            "469/469 [==============================] - 7s 3ms/step - loss: 0.8484 - accuracy: 0.7463\n",
            "Epoch 2/10\n",
            "469/469 [==============================] - 2s 3ms/step - loss: 0.3547 - accuracy: 0.8971\n",
            "Epoch 3/10\n",
            "469/469 [==============================] - 2s 4ms/step - loss: 0.2979 - accuracy: 0.9132\n",
            "Epoch 4/10\n",
            "469/469 [==============================] - 2s 4ms/step - loss: 0.2609 - accuracy: 0.9240\n",
            "Epoch 5/10\n",
            "469/469 [==============================] - 2s 3ms/step - loss: 0.2275 - accuracy: 0.9345\n",
            "Epoch 6/10\n",
            "469/469 [==============================] - 2s 4ms/step - loss: 0.1992 - accuracy: 0.9416\n",
            "Epoch 7/10\n",
            "469/469 [==============================] - 2s 3ms/step - loss: 0.1763 - accuracy: 0.9483\n",
            "Epoch 8/10\n",
            "469/469 [==============================] - 2s 3ms/step - loss: 0.1555 - accuracy: 0.9544\n",
            "Epoch 9/10\n",
            "469/469 [==============================] - 2s 4ms/step - loss: 0.1380 - accuracy: 0.9595\n",
            "Epoch 10/10\n",
            "469/469 [==============================] - 3s 7ms/step - loss: 0.1234 - accuracy: 0.9638\n",
            "313/313 [==============================] - 2s 4ms/step - loss: 0.1223 - accuracy: 0.9632\n",
            "Loss: 0.12229030579328537\n",
            "Accuracy: 0.9631999731063843\n"
          ]
        }
      ]
    },
    {
      "cell_type": "code",
      "source": [
        "# Increase epochs from 10 to 20"
      ],
      "metadata": {
        "id": "3WJP8sEScqJw"
      },
      "execution_count": null,
      "outputs": []
    },
    {
      "cell_type": "code",
      "source": [
        "import numpy as np\n",
        "from keras.models import Sequential\n",
        "from keras.layers import Dense\n",
        "\n",
        "data = np.load('mnist.npz')\n",
        "train_x = data['train_x']\n",
        "train_y = data['train_y']\n",
        "test_x = data['test_x']\n",
        "test_y = data['test_y']\n",
        "\n",
        "train_x = train_x.reshape(train_x.shape[0], -1)\n",
        "test_x = test_x.reshape(test_x.shape[0], -1)\n",
        "\n",
        "train_x = train_x / 255.0\n",
        "test_x = test_x / 255.0\n",
        "\n",
        "num_classes = len(np.unique(train_y))\n",
        "train_y = np.eye(num_classes)[train_y]\n",
        "test_y = np.eye(num_classes)[test_y]\n",
        "\n",
        "model = Sequential()\n",
        "model.add(Dense(512, activation='relu', input_shape=(784,)))\n",
        "model.add(Dense(256, activation='relu'))\n",
        "model.add(Dense(num_classes, activation='softmax'))\n",
        "\n",
        "model.compile(loss='categorical_crossentropy', optimizer='adam', metrics=['accuracy'])\n",
        "\n",
        "model.fit(train_x, train_y, batch_size=128, epochs=30)\n",
        "\n",
        "loss, accuracy = model.evaluate(test_x, test_y)\n",
        "print('Loss:', loss)\n",
        "print('Accuracy:', accuracy)"
      ],
      "metadata": {
        "colab": {
          "base_uri": "https://localhost:8080/"
        },
        "id": "vr0TcgncgWJZ",
        "outputId": "00053fb4-1211-4073-e70a-a809916d1714"
      },
      "execution_count": null,
      "outputs": [
        {
          "output_type": "stream",
          "name": "stdout",
          "text": [
            "Epoch 1/30\n",
            "469/469 [==============================] - 3s 3ms/step - loss: 0.8926 - accuracy: 0.7316\n",
            "Epoch 2/30\n",
            "469/469 [==============================] - 2s 3ms/step - loss: 0.3732 - accuracy: 0.8908\n",
            "Epoch 3/30\n",
            "469/469 [==============================] - 2s 3ms/step - loss: 0.3052 - accuracy: 0.9111\n",
            "Epoch 4/30\n",
            "469/469 [==============================] - 2s 3ms/step - loss: 0.2649 - accuracy: 0.9227\n",
            "Epoch 5/30\n",
            "469/469 [==============================] - 2s 5ms/step - loss: 0.2329 - accuracy: 0.9316\n",
            "Epoch 6/30\n",
            "469/469 [==============================] - 2s 4ms/step - loss: 0.2049 - accuracy: 0.9393\n",
            "Epoch 7/30\n",
            "469/469 [==============================] - 2s 3ms/step - loss: 0.1806 - accuracy: 0.9466\n",
            "Epoch 8/30\n",
            "469/469 [==============================] - 2s 3ms/step - loss: 0.1596 - accuracy: 0.9533\n",
            "Epoch 9/30\n",
            "469/469 [==============================] - 2s 3ms/step - loss: 0.1410 - accuracy: 0.9583\n",
            "Epoch 10/30\n",
            "469/469 [==============================] - 2s 3ms/step - loss: 0.1263 - accuracy: 0.9630\n",
            "Epoch 11/30\n",
            "469/469 [==============================] - 2s 3ms/step - loss: 0.1145 - accuracy: 0.9659\n",
            "Epoch 12/30\n",
            "469/469 [==============================] - 2s 4ms/step - loss: 0.1027 - accuracy: 0.9697\n",
            "Epoch 13/30\n",
            "469/469 [==============================] - 2s 4ms/step - loss: 0.0938 - accuracy: 0.9723\n",
            "Epoch 14/30\n",
            "469/469 [==============================] - 2s 3ms/step - loss: 0.0846 - accuracy: 0.9748\n",
            "Epoch 15/30\n",
            "469/469 [==============================] - 2s 3ms/step - loss: 0.0769 - accuracy: 0.9771\n",
            "Epoch 16/30\n",
            "469/469 [==============================] - 2s 3ms/step - loss: 0.0711 - accuracy: 0.9782\n",
            "Epoch 17/30\n",
            "469/469 [==============================] - 2s 3ms/step - loss: 0.0647 - accuracy: 0.9805\n",
            "Epoch 18/30\n",
            "469/469 [==============================] - 2s 3ms/step - loss: 0.0597 - accuracy: 0.9821\n",
            "Epoch 19/30\n",
            "469/469 [==============================] - 2s 3ms/step - loss: 0.0539 - accuracy: 0.9842\n",
            "Epoch 20/30\n",
            "469/469 [==============================] - 2s 5ms/step - loss: 0.0508 - accuracy: 0.9847\n",
            "Epoch 21/30\n",
            "469/469 [==============================] - 2s 4ms/step - loss: 0.0461 - accuracy: 0.9863\n",
            "Epoch 22/30\n",
            "469/469 [==============================] - 2s 3ms/step - loss: 0.0414 - accuracy: 0.9875\n",
            "Epoch 23/30\n",
            "469/469 [==============================] - 2s 3ms/step - loss: 0.0396 - accuracy: 0.9882\n",
            "Epoch 24/30\n",
            "469/469 [==============================] - 2s 3ms/step - loss: 0.0354 - accuracy: 0.9896\n",
            "Epoch 25/30\n",
            "469/469 [==============================] - 2s 3ms/step - loss: 0.0327 - accuracy: 0.9905\n",
            "Epoch 26/30\n",
            "469/469 [==============================] - 2s 3ms/step - loss: 0.0298 - accuracy: 0.9915\n",
            "Epoch 27/30\n",
            "469/469 [==============================] - 2s 4ms/step - loss: 0.0276 - accuracy: 0.9920\n",
            "Epoch 28/30\n",
            "469/469 [==============================] - 2s 4ms/step - loss: 0.0253 - accuracy: 0.9930\n",
            "Epoch 29/30\n",
            "469/469 [==============================] - 2s 3ms/step - loss: 0.0230 - accuracy: 0.9933\n",
            "Epoch 30/30\n",
            "469/469 [==============================] - 2s 3ms/step - loss: 0.0209 - accuracy: 0.9944\n",
            "313/313 [==============================] - 1s 2ms/step - loss: 0.0765 - accuracy: 0.9774\n",
            "Loss: 0.07653816789388657\n",
            "Accuracy: 0.977400004863739\n"
          ]
        }
      ]
    },
    {
      "cell_type": "code",
      "source": [
        "# 30 epochs seems (a tad too many -- started getting diminishing returns), we'll revert to 29 epochs."
      ],
      "metadata": {
        "id": "TeIqBHScgYGQ"
      },
      "execution_count": null,
      "outputs": []
    },
    {
      "cell_type": "code",
      "source": [
        "import numpy as np\n",
        "from keras.models import Sequential\n",
        "from keras.layers import Dense\n",
        "\n",
        "data = np.load('mnist.npz')\n",
        "train_x = data['train_x']\n",
        "train_y = data['train_y']\n",
        "test_x = data['test_x']\n",
        "test_y = data['test_y']\n",
        "\n",
        "train_x = train_x.reshape(train_x.shape[0], -1)\n",
        "test_x = test_x.reshape(test_x.shape[0], -1)\n",
        "\n",
        "train_x = train_x / 255.0\n",
        "test_x = test_x / 255.0\n",
        "\n",
        "num_classes = len(np.unique(train_y))\n",
        "train_y = np.eye(num_classes)[train_y]\n",
        "test_y = np.eye(num_classes)[test_y]\n",
        "\n",
        "model = Sequential()\n",
        "model.add(Dense(512, activation='relu', input_shape=(784,)))\n",
        "model.add(Dense(256, activation='relu'))\n",
        "model.add(Dense(num_classes, activation='softmax'))\n",
        "\n",
        "model.compile(loss='categorical_crossentropy', optimizer='adam', metrics=['accuracy'])\n",
        "\n",
        "model.fit(train_x, train_y, batch_size=128, epochs=29)\n",
        "\n",
        "print(model.evaluate(test_x, test_y))\n",
        "\n",
        "loss, accuracy = model.evaluate(test_x, test_y)\n",
        "print('Loss:', loss)\n",
        "print('Accuracy:', accuracy)"
      ],
      "metadata": {
        "colab": {
          "base_uri": "https://localhost:8080/"
        },
        "id": "p2GfXfwjhHRg",
        "outputId": "98f4bf03-b1a3-42b7-a23d-16ee0d74094a"
      },
      "execution_count": null,
      "outputs": [
        {
          "output_type": "stream",
          "name": "stdout",
          "text": [
            "Epoch 1/29\n",
            "469/469 [==============================] - 3s 3ms/step - loss: 0.8555 - accuracy: 0.7482\n",
            "Epoch 2/29\n",
            "469/469 [==============================] - 2s 3ms/step - loss: 0.3626 - accuracy: 0.8949\n",
            "Epoch 3/29\n",
            "469/469 [==============================] - 1s 3ms/step - loss: 0.3013 - accuracy: 0.9113\n",
            "Epoch 4/29\n",
            "469/469 [==============================] - 1s 3ms/step - loss: 0.2630 - accuracy: 0.9225\n",
            "Epoch 5/29\n",
            "469/469 [==============================] - 2s 4ms/step - loss: 0.2324 - accuracy: 0.9314\n",
            "Epoch 6/29\n",
            "469/469 [==============================] - 2s 4ms/step - loss: 0.2046 - accuracy: 0.9406\n",
            "Epoch 7/29\n",
            "469/469 [==============================] - 2s 3ms/step - loss: 0.1811 - accuracy: 0.9466\n",
            "Epoch 8/29\n",
            "469/469 [==============================] - 2s 3ms/step - loss: 0.1601 - accuracy: 0.9524\n",
            "Epoch 9/29\n",
            "469/469 [==============================] - 2s 3ms/step - loss: 0.1434 - accuracy: 0.9584\n",
            "Epoch 10/29\n",
            "469/469 [==============================] - 1s 3ms/step - loss: 0.1282 - accuracy: 0.9625\n",
            "Epoch 11/29\n",
            "469/469 [==============================] - 1s 3ms/step - loss: 0.1145 - accuracy: 0.9667\n",
            "Epoch 12/29\n",
            "469/469 [==============================] - 1s 3ms/step - loss: 0.1034 - accuracy: 0.9690\n",
            "Epoch 13/29\n",
            "469/469 [==============================] - 2s 4ms/step - loss: 0.0933 - accuracy: 0.9724\n",
            "Epoch 14/29\n",
            "469/469 [==============================] - 2s 4ms/step - loss: 0.0839 - accuracy: 0.9753\n",
            "Epoch 15/29\n",
            "469/469 [==============================] - 2s 3ms/step - loss: 0.0775 - accuracy: 0.9766\n",
            "Epoch 16/29\n",
            "469/469 [==============================] - 2s 3ms/step - loss: 0.0707 - accuracy: 0.9790\n",
            "Epoch 17/29\n",
            "469/469 [==============================] - 2s 3ms/step - loss: 0.0645 - accuracy: 0.9806\n",
            "Epoch 18/29\n",
            "469/469 [==============================] - 1s 3ms/step - loss: 0.0590 - accuracy: 0.9819\n",
            "Epoch 19/29\n",
            "469/469 [==============================] - 2s 3ms/step - loss: 0.0529 - accuracy: 0.9844\n",
            "Epoch 20/29\n",
            "469/469 [==============================] - 2s 3ms/step - loss: 0.0480 - accuracy: 0.9858\n",
            "Epoch 21/29\n",
            "469/469 [==============================] - 2s 4ms/step - loss: 0.0453 - accuracy: 0.9863\n",
            "Epoch 22/29\n",
            "469/469 [==============================] - 2s 3ms/step - loss: 0.0409 - accuracy: 0.9878\n",
            "Epoch 23/29\n",
            "469/469 [==============================] - 2s 3ms/step - loss: 0.0371 - accuracy: 0.9888\n",
            "Epoch 24/29\n",
            "469/469 [==============================] - 2s 3ms/step - loss: 0.0347 - accuracy: 0.9900\n",
            "Epoch 25/29\n",
            "469/469 [==============================] - 2s 3ms/step - loss: 0.0313 - accuracy: 0.9906\n",
            "Epoch 26/29\n",
            "469/469 [==============================] - 1s 3ms/step - loss: 0.0290 - accuracy: 0.9919\n",
            "Epoch 27/29\n",
            "469/469 [==============================] - 2s 3ms/step - loss: 0.0257 - accuracy: 0.9927\n",
            "Epoch 28/29\n",
            "469/469 [==============================] - 2s 4ms/step - loss: 0.0231 - accuracy: 0.9936\n",
            "Epoch 29/29\n",
            "469/469 [==============================] - 2s 4ms/step - loss: 0.0215 - accuracy: 0.9939\n",
            "313/313 [==============================] - 1s 2ms/step - loss: 0.0687 - accuracy: 0.9795\n",
            "[0.0687294527888298, 0.9794999957084656]\n",
            "313/313 [==============================] - 1s 2ms/step - loss: 0.0687 - accuracy: 0.9795\n",
            "Loss: 0.0687294527888298\n",
            "Accuracy: 0.9794999957084656\n"
          ]
        }
      ]
    },
    {
      "cell_type": "code",
      "source": [
        "model.summary()"
      ],
      "metadata": {
        "colab": {
          "base_uri": "https://localhost:8080/"
        },
        "id": "KtLrBYKImNSc",
        "outputId": "f90b5b1b-9d77-4079-c8e7-d07d8d4d5374"
      },
      "execution_count": null,
      "outputs": [
        {
          "output_type": "stream",
          "name": "stdout",
          "text": [
            "Model: \"sequential_4\"\n",
            "_________________________________________________________________\n",
            " Layer (type)                Output Shape              Param #   \n",
            "=================================================================\n",
            " dense_12 (Dense)            (None, 512)               401920    \n",
            "                                                                 \n",
            " dense_13 (Dense)            (None, 256)               131328    \n",
            "                                                                 \n",
            " dense_14 (Dense)            (None, 10)                2570      \n",
            "                                                                 \n",
            "=================================================================\n",
            "Total params: 535,818\n",
            "Trainable params: 535,818\n",
            "Non-trainable params: 0\n",
            "_________________________________________________________________\n"
          ]
        }
      ]
    },
    {
      "cell_type": "markdown",
      "source": [
        "# Fashion-MNIST"
      ],
      "metadata": {
        "id": "9SyvJGgWXyIG"
      }
    },
    {
      "cell_type": "code",
      "source": [
        "!wget https://github.com/zalandoresearch/fashion-mnist/raw/master/data/fashion/t10k-images-idx3-ubyte.gz"
      ],
      "metadata": {
        "colab": {
          "base_uri": "https://localhost:8080/"
        },
        "id": "XIGD-HosX515",
        "outputId": "8075ad30-16a6-447a-e7ed-f3ddc1a22faa"
      },
      "execution_count": 1,
      "outputs": [
        {
          "output_type": "stream",
          "name": "stdout",
          "text": [
            "--2023-06-07 19:44:10--  https://github.com/zalandoresearch/fashion-mnist/raw/master/data/fashion/t10k-images-idx3-ubyte.gz\n",
            "Resolving github.com (github.com)... 140.82.121.4\n",
            "Connecting to github.com (github.com)|140.82.121.4|:443... connected.\n",
            "HTTP request sent, awaiting response... 302 Found\n",
            "Location: https://raw.githubusercontent.com/zalandoresearch/fashion-mnist/master/data/fashion/t10k-images-idx3-ubyte.gz [following]\n",
            "--2023-06-07 19:44:10--  https://raw.githubusercontent.com/zalandoresearch/fashion-mnist/master/data/fashion/t10k-images-idx3-ubyte.gz\n",
            "Resolving raw.githubusercontent.com (raw.githubusercontent.com)... 185.199.111.133, 185.199.110.133, 185.199.108.133, ...\n",
            "Connecting to raw.githubusercontent.com (raw.githubusercontent.com)|185.199.111.133|:443... connected.\n",
            "HTTP request sent, awaiting response... 200 OK\n",
            "Length: 4422102 (4.2M) [application/octet-stream]\n",
            "Saving to: ‘t10k-images-idx3-ubyte.gz’\n",
            "\n",
            "t10k-images-idx3-ub 100%[===================>]   4.22M  --.-KB/s    in 0.03s   \n",
            "\n",
            "2023-06-07 19:44:11 (160 MB/s) - ‘t10k-images-idx3-ubyte.gz’ saved [4422102/4422102]\n",
            "\n"
          ]
        }
      ]
    },
    {
      "cell_type": "code",
      "source": [
        "!gunzip t10k-images-idx3-ubyte.gz"
      ],
      "metadata": {
        "id": "kHWVqwFkX5-N"
      },
      "execution_count": 2,
      "outputs": []
    },
    {
      "cell_type": "code",
      "source": [
        "import struct\n",
        "import numpy as np\n",
        "\n",
        "def read_idx(filename):\n",
        "    with open(filename, 'rb') as f:\n",
        "        zero, data_type, dims = struct.unpack('>HBB', f.read(4))\n",
        "        shape = tuple(struct.unpack('>I', f.read(4))[0] for d in range(dims))\n",
        "        return np.frombuffer(f.read(), dtype=np.uint8).reshape(shape)"
      ],
      "metadata": {
        "id": "304Yr_7MX6Fx"
      },
      "execution_count": 3,
      "outputs": []
    },
    {
      "cell_type": "code",
      "source": [
        "images = read_idx('t10k-images-idx3-ubyte')"
      ],
      "metadata": {
        "id": "VHhisvUTX6My"
      },
      "execution_count": 4,
      "outputs": []
    },
    {
      "cell_type": "code",
      "source": [
        "import matplotlib.pyplot as plt\n",
        "\n",
        "plt.imshow(images[0], cmap='gray')\n",
        "plt.show()"
      ],
      "metadata": {
        "colab": {
          "base_uri": "https://localhost:8080/",
          "height": 430
        },
        "id": "cKjLzEbZX6Ty",
        "outputId": "c04528ae-f359-4187-a3fc-611d3ee16b48"
      },
      "execution_count": 5,
      "outputs": [
        {
          "output_type": "display_data",
          "data": {
            "text/plain": [
              "<Figure size 640x480 with 1 Axes>"
            ],
            "image/png": "[encoded data removed]"
          },
          "metadata": {}
        }
      ]
    },
    {
      "cell_type": "code",
      "source": [
        "# Naive Bayes"
      ],
      "metadata": {
        "id": "8lGNwwI3X6am"
      },
      "execution_count": 6,
      "outputs": []
    },
    {
      "cell_type": "code",
      "source": [
        "!wget https://github.com/zalandoresearch/fashion-mnist/raw/master/data/fashion/t10k-labels-idx1-ubyte.gz\n",
        "!gunzip t10k-labels-idx1-ubyte.gz\n",
        "labels = read_idx('t10k-labels-idx1-ubyte')"
      ],
      "metadata": {
        "colab": {
          "base_uri": "https://localhost:8080/"
        },
        "id": "SuassAnNX6hI",
        "outputId": "244a1ed4-aa85-47d0-f08f-ea8b5dab7873"
      },
      "execution_count": 7,
      "outputs": [
        {
          "output_type": "stream",
          "name": "stdout",
          "text": [
            "--2023-06-07 19:44:11--  https://github.com/zalandoresearch/fashion-mnist/raw/master/data/fashion/t10k-labels-idx1-ubyte.gz\n",
            "Resolving github.com (github.com)... 140.82.121.3\n",
            "Connecting to github.com (github.com)|140.82.121.3|:443... connected.\n",
            "HTTP request sent, awaiting response... 302 Found\n",
            "Location: https://raw.githubusercontent.com/zalandoresearch/fashion-mnist/master/data/fashion/t10k-labels-idx1-ubyte.gz [following]\n",
            "--2023-06-07 19:44:11--  https://raw.githubusercontent.com/zalandoresearch/fashion-mnist/master/data/fashion/t10k-labels-idx1-ubyte.gz\n",
            "Resolving raw.githubusercontent.com (raw.githubusercontent.com)... 185.199.108.133, 185.199.109.133, 185.199.110.133, ...\n",
            "Connecting to raw.githubusercontent.com (raw.githubusercontent.com)|185.199.108.133|:443... connected.\n",
            "HTTP request sent, awaiting response... 200 OK\n",
            "Length: 5148 (5.0K) [application/octet-stream]\n",
            "Saving to: ‘t10k-labels-idx1-ubyte.gz’\n",
            "\n",
            "t10k-labels-idx1-ub 100%[===================>]   5.03K  --.-KB/s    in 0s      \n",
            "\n",
            "2023-06-07 19:44:12 (59.4 MB/s) - ‘t10k-labels-idx1-ubyte.gz’ saved [5148/5148]\n",
            "\n"
          ]
        }
      ]
    },
    {
      "cell_type": "code",
      "source": [
        "num_images = images.shape[0]\n",
        "reshaped_images = images.reshape((num_images, -1))"
      ],
      "metadata": {
        "id": "m3Irs1-KX6nU"
      },
      "execution_count": 8,
      "outputs": []
    },
    {
      "cell_type": "code",
      "source": [
        "from sklearn.model_selection import train_test_split\n",
        "\n",
        "X_train, X_test, y_train, y_test = train_test_split(\n",
        "    reshaped_images, labels, test_size=0.2, random_state=42\n",
        ")"
      ],
      "metadata": {
        "id": "sViouEWGX6tl"
      },
      "execution_count": 9,
      "outputs": []
    },
    {
      "cell_type": "code",
      "source": [
        "%%time\n",
        "\n",
        "from sklearn.naive_bayes import GaussianNB\n",
        "\n",
        "gnb = GaussianNB()\n",
        "gnb.fit(X_train, y_train)"
      ],
      "metadata": {
        "colab": {
          "base_uri": "https://localhost:8080/",
          "height": 108
        },
        "id": "qSMon7oTX6zH",
        "outputId": "3f2822d5-914b-4b08-a819-e7db7ca684a3"
      },
      "execution_count": 21,
      "outputs": [
        {
          "output_type": "stream",
          "name": "stdout",
          "text": [
            "CPU times: user 56.4 ms, sys: 10.1 ms, total: 66.6 ms\n",
            "Wall time: 67.5 ms\n"
          ]
        },
        {
          "output_type": "execute_result",
          "data": {
            "text/plain": [
              "GaussianNB()"
            ],
            "text/html": [
              "<style>#sk-container-id-2 {color: black;background-color: white;}#sk-container-id-2 pre{padding: 0;}#sk-container-id-2 div.sk-toggleable {background-color: white;}#sk-container-id-2 label.sk-toggleable__label {cursor: pointer;display: block;width: 100%;margin-bottom: 0;padding: 0.3em;box-sizing: border-box;text-align: center;}#sk-container-id-2 label.sk-toggleable__label-arrow:before {content: \"▸\";float: left;margin-right: 0.25em;color: #696969;}#sk-container-id-2 label.sk-toggleable__label-arrow:hover:before {color: black;}#sk-container-id-2 div.sk-estimator:hover label.sk-toggleable__label-arrow:before {color: black;}#sk-container-id-2 div.sk-toggleable__content {max-height: 0;max-width: 0;overflow: hidden;text-align: left;background-color: #f0f8ff;}#sk-container-id-2 div.sk-toggleable__content pre {margin: 0.2em;color: black;border-radius: 0.25em;background-color: #f0f8ff;}#sk-container-id-2 input.sk-toggleable__control:checked~div.sk-toggleable__content {max-height: 200px;max-width: 100%;overflow: auto;}#sk-container-id-2 input.sk-toggleable__control:checked~label.sk-toggleable__label-arrow:before {content: \"▾\";}#sk-container-id-2 div.sk-estimator input.sk-toggleable__control:checked~label.sk-toggleable__label {background-color: #d4ebff;}#sk-container-id-2 div.sk-label input.sk-toggleable__control:checked~label.sk-toggleable__label {background-color: #d4ebff;}#sk-container-id-2 input.sk-hidden--visually {border: 0;clip: rect(1px 1px 1px 1px);clip: rect(1px, 1px, 1px, 1px);height: 1px;margin: -1px;overflow: hidden;padding: 0;position: absolute;width: 1px;}#sk-container-id-2 div.sk-estimator {font-family: monospace;background-color: #f0f8ff;border: 1px dotted black;border-radius: 0.25em;box-sizing: border-box;margin-bottom: 0.5em;}#sk-container-id-2 div.sk-estimator:hover {background-color: #d4ebff;}#sk-container-id-2 div.sk-parallel-item::after {content: \"\";width: 100%;border-bottom: 1px solid gray;flex-grow: 1;}#sk-container-id-2 div.sk-label:hover label.sk-toggleable__label {background-color: #d4ebff;}#sk-container-id-2 div.sk-serial::before {content: \"\";position: absolute;border-left: 1px solid gray;box-sizing: border-box;top: 0;bottom: 0;left: 50%;z-index: 0;}#sk-container-id-2 div.sk-serial {display: flex;flex-direction: column;align-items: center;background-color: white;padding-right: 0.2em;padding-left: 0.2em;position: relative;}#sk-container-id-2 div.sk-item {position: relative;z-index: 1;}#sk-container-id-2 div.sk-parallel {display: flex;align-items: stretch;justify-content: center;background-color: white;position: relative;}#sk-container-id-2 div.sk-item::before, #sk-container-id-2 div.sk-parallel-item::before {content: \"\";position: absolute;border-left: 1px solid gray;box-sizing: border-box;top: 0;bottom: 0;left: 50%;z-index: -1;}#sk-container-id-2 div.sk-parallel-item {display: flex;flex-direction: column;z-index: 1;position: relative;background-color: white;}#sk-container-id-2 div.sk-parallel-item:first-child::after {align-self: flex-end;width: 50%;}#sk-container-id-2 div.sk-parallel-item:last-child::after {align-self: flex-start;width: 50%;}#sk-container-id-2 div.sk-parallel-item:only-child::after {width: 0;}#sk-container-id-2 div.sk-dashed-wrapped {border: 1px dashed gray;margin: 0 0.4em 0.5em 0.4em;box-sizing: border-box;padding-bottom: 0.4em;background-color: white;}#sk-container-id-2 div.sk-label label {font-family: monospace;font-weight: bold;display: inline-block;line-height: 1.2em;}#sk-container-id-2 div.sk-label-container {text-align: center;}#sk-container-id-2 div.sk-container {/* jupyter's `normalize.less` sets `[hidden] { display: none; }` but bootstrap.min.css set `[hidden] { display: none !important; }` so we also need the `!important` here to be able to override the default hidden behavior on the sphinx rendered scikit-learn.org. See: https://github.com/scikit-learn/scikit-learn/issues/21755 */display: inline-block !important;position: relative;}#sk-container-id-2 div.sk-text-repr-fallback {display: none;}</style><div id=\"sk-container-id-2\" class=\"sk-top-container\"><div class=\"sk-text-repr-fallback\"><pre>GaussianNB()</pre><b>In a Jupyter environment, please rerun this cell to show the HTML representation or trust the notebook. <br />On GitHub, the HTML representation is unable to render, please try loading this page with nbviewer.org.</b></div><div class=\"sk-container\" hidden><div class=\"sk-item\"><div class=\"sk-estimator sk-toggleable\"><input class=\"sk-toggleable__control sk-hidden--visually\" id=\"sk-estimator-id-2\" type=\"checkbox\" checked><label for=\"sk-estimator-id-2\" class=\"sk-toggleable__label sk-toggleable__label-arrow\">GaussianNB</label><div class=\"sk-toggleable__content\"><pre>GaussianNB()</pre></div></div></div></div></div>"
            ]
          },
          "metadata": {},
          "execution_count": 21
        }
      ]
    },
    {
      "cell_type": "code",
      "source": [
        "from sklearn.metrics import accuracy_score\n",
        "\n",
        "y_pred = gnb.predict(X_test)\n",
        "print(\"Accuracy: \", accuracy_score(y_test, y_pred))"
      ],
      "metadata": {
        "colab": {
          "base_uri": "https://localhost:8080/"
        },
        "id": "GdQsLIaWX65l",
        "outputId": "00b0efe0-05e1-4ad1-932b-91fdb4b6c2e2"
      },
      "execution_count": 11,
      "outputs": [
        {
          "output_type": "stream",
          "name": "stdout",
          "text": [
            "Accuracy:  0.566\n"
          ]
        }
      ]
    },
    {
      "cell_type": "code",
      "source": [
        "# Keras"
      ],
      "metadata": {
        "id": "UzYWgvhaX6_m"
      },
      "execution_count": 12,
      "outputs": []
    },
    {
      "cell_type": "code",
      "source": [
        "images = images / 255.0"
      ],
      "metadata": {
        "id": "nfsd8jlJX7FB"
      },
      "execution_count": 13,
      "outputs": []
    },
    {
      "cell_type": "code",
      "source": [
        "num_images = images.shape[0]\n",
        "reshaped_images = images.reshape((num_images, -1))"
      ],
      "metadata": {
        "id": "r6z6B1ksX7Kz"
      },
      "execution_count": 14,
      "outputs": []
    },
    {
      "cell_type": "code",
      "source": [
        "from sklearn.model_selection import train_test_split\n",
        "\n",
        "X_train, X_test, y_train, y_test = train_test_split(\n",
        "    reshaped_images, labels, test_size=0.2, random_state=42\n",
        ")"
      ],
      "metadata": {
        "id": "lMRiEt9bX7Qh"
      },
      "execution_count": 15,
      "outputs": []
    },
    {
      "cell_type": "code",
      "source": [
        "from keras.models import Sequential\n",
        "from keras.layers import Dense\n",
        "\n",
        "model = Sequential([\n",
        "    Dense(128, activation='relu', input_shape=(784,)),\n",
        "    Dense(10, activation='softmax')\n",
        "])\n"
      ],
      "metadata": {
        "id": "Qjl7SX02X7Wx"
      },
      "execution_count": 16,
      "outputs": []
    },
    {
      "cell_type": "code",
      "source": [
        "model.compile(\n",
        "    optimizer='adam',\n",
        "    loss='sparse_categorical_crossentropy',\n",
        "    metrics=['accuracy']\n",
        ")"
      ],
      "metadata": {
        "id": "OHcn-bEqX7fn"
      },
      "execution_count": 17,
      "outputs": []
    },
    {
      "cell_type": "code",
      "source": [
        "%%time\n",
        "model.fit(X_train, y_train, epochs=10, batch_size=32)"
      ],
      "metadata": {
        "colab": {
          "base_uri": "https://localhost:8080/"
        },
        "id": "wrUepRUnX7m3",
        "outputId": "2b622d7a-edd2-43f1-a347-ccbcc5d4646b"
      },
      "execution_count": 20,
      "outputs": [
        {
          "output_type": "stream",
          "name": "stdout",
          "text": [
            "Epoch 1/10\n",
            "250/250 [==============================] - 1s 5ms/step - loss: 0.3088 - accuracy: 0.8889\n",
            "Epoch 2/10\n",
            "250/250 [==============================] - 1s 4ms/step - loss: 0.3000 - accuracy: 0.8911\n",
            "Epoch 3/10\n",
            "250/250 [==============================] - 1s 3ms/step - loss: 0.2829 - accuracy: 0.8985\n",
            "Epoch 4/10\n",
            "250/250 [==============================] - 1s 3ms/step - loss: 0.2747 - accuracy: 0.9015\n",
            "Epoch 5/10\n",
            "250/250 [==============================] - 1s 3ms/step - loss: 0.2575 - accuracy: 0.9056\n",
            "Epoch 6/10\n",
            "250/250 [==============================] - 1s 2ms/step - loss: 0.2483 - accuracy: 0.9091\n",
            "Epoch 7/10\n",
            "250/250 [==============================] - 1s 3ms/step - loss: 0.2390 - accuracy: 0.9161\n",
            "Epoch 8/10\n",
            "250/250 [==============================] - 1s 2ms/step - loss: 0.2258 - accuracy: 0.9141\n",
            "Epoch 9/10\n",
            "250/250 [==============================] - 1s 2ms/step - loss: 0.2143 - accuracy: 0.9234\n",
            "Epoch 10/10\n",
            "250/250 [==============================] - 1s 2ms/step - loss: 0.2097 - accuracy: 0.9252\n",
            "CPU times: user 7.7 s, sys: 464 ms, total: 8.16 s\n",
            "Wall time: 7.64 s\n"
          ]
        },
        {
          "output_type": "execute_result",
          "data": {
            "text/plain": [
              "<keras.callbacks.History at 0x7ff13c6c0f10>"
            ]
          },
          "metadata": {},
          "execution_count": 20
        }
      ]
    },
    {
      "cell_type": "code",
      "source": [
        "loss, accuracy = model.evaluate(X_test, y_test)\n",
        "print(\"Accuracy: \", accuracy)"
      ],
      "metadata": {
        "colab": {
          "base_uri": "https://localhost:8080/"
        },
        "id": "4D5mN8P0X7sn",
        "outputId": "0f3455e4-de21-4dcc-f179-58ada7498d4e"
      },
      "execution_count": 19,
      "outputs": [
        {
          "output_type": "stream",
          "name": "stdout",
          "text": [
            "63/63 [==============================] - 0s 2ms/step - loss: 0.4665 - accuracy: 0.8335\n",
            "Accuracy:  0.8335000276565552\n"
          ]
        }
      ]
    },
    {
      "cell_type": "markdown",
      "source": [
        "## LAB 3 QUESTIONS"
      ],
      "metadata": {
        "id": "d4fpGrPLP8od"
      }
    },
    {
      "cell_type": "markdown",
      "source": [
        "## What was the accuracy of each method?\n",
        "\n",
        "For the MNIST dataset, here are the accuracy values:\n",
        "- Naive Bayes\n",
        "  - ~57%\n",
        "- Keras\n",
        "  -  ~98%\n",
        "\n",
        "For the Fashion-MNIST dataset, here are the accuracy values:\n",
        "- Naive Bayes\n",
        "  - ~57%\n",
        "- Keras\n",
        "  -  ~84%\n",
        "\n",
        "In both cases, the Keras model singificantly outperformed the Naive Bayes test.  More testing could be done to see if the Keras model has overfit on the dataset, however.  With more time, this would be the scope for the next phase of this exploration."
      ],
      "metadata": {
        "id": "DjUIP3CVY6q5"
      }
    },
    {
      "cell_type": "markdown",
      "source": [
        "## What are the trade-offs of each approach?\n",
        "\n",
        "There are few pros and cons that ca nbe discussed between these appraoches:\n",
        "\n",
        "Interpotability\n",
        "- Naive Bayes is generally a simpler model for interpotability and comprehension by the user -- whereas the Keras model uses neural networks that many consider to be somewhat like 'black boxes' (i.e., they have many deep layers that perform complicated mathemtical calculations).  Put simply, a Naive Bayes model is easier to diagram vs an intricate deep learning model.\n",
        "\n",
        "Accuracy\n",
        "- Although both seem to be distant in accuracy, they may not be too far off if more research is done.  Deep learning models can be prone to overfitting on the training data.  This can give an illusion that the model truly understands the innerworkings of the data, but may perform poorly on new data. Naive Bayes is less likley to overfit on data vs a model like from Keras."
      ],
      "metadata": {
        "id": "Z-RvbtSkY69E"
      }
    },
    {
      "cell_type": "markdown",
      "source": [
        "## What is the compute performance of each approach?\n",
        "\n",
        "In the Fashion-MNIST example, the Naive Bayes model took just 67.5 milliseconds to run, while the Keras model took 7.64 seconds to render.  This can be discovered when using the `%%time` command in a jupyternotebook cell.\n",
        "\n",
        "This alludes to the idea that the Keras/Deep-Learning model takes singificantly longer to execute.  It is on the order of magnititude of 100+ times slower."
      ],
      "metadata": {
        "id": "jXd5phZIY7Ek"
      }
    }
  ]
}